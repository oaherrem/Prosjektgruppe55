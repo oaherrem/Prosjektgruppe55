{
 "cells": [
  {
   "cell_type": "markdown",
   "metadata": {},
   "source": [
    "### Oppgave 1 Utviklingsmiljø"
   ]
  },
  {
   "cell_type": "code",
   "execution_count": 1,
   "metadata": {},
   "outputs": [
    {
     "name": "stdout",
     "output_type": "stream",
     "text": [
      "Utviklingsmiljøet er klart!\n"
     ]
    }
   ],
   "source": [
    "print(\"Utviklingsmiljøet er klart!\")"
   ]
  },
  {
   "cell_type": "markdown",
   "metadata": {},
   "source": [
    "#### Utviklingsmiljø\n",
    "\n",
    "Vi satt opp repository i GitHub for Prosjektgruppe55 og lastet opp oppgavemalen fra Jupyter-boka. Denne malen har vi brukt som utgangspunkt i besvarelsen av mappeinnleveringen. Deretter clonet vi repoet slik at hele gruppen jobbet med samme fil. Dermed var utviklingsmiljøet vårt klart.\n",
    "\n",
    "Printer ut \"Utviklingsmiljøet er klart!\"\n"
   ]
  }
 ],
 "metadata": {
  "kernelspec": {
   "display_name": "Python 3",
   "language": "python",
   "name": "python3"
  },
  "language_info": {
   "codemirror_mode": {
    "name": "ipython",
    "version": 3
   },
   "file_extension": ".py",
   "mimetype": "text/x-python",
   "name": "python",
   "nbconvert_exporter": "python",
   "pygments_lexer": "ipython3",
   "version": "3.13.1"
  }
 },
 "nbformat": 4,
 "nbformat_minor": 2
}
