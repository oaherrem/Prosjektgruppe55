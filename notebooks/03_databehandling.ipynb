{
 "cells": [
  {
   "cell_type": "markdown",
   "metadata": {},
   "source": [
    "### Oppgave 3 - Databehandling "
   ]
  },
  {
   "cell_type": "markdown",
   "metadata": {},
   "source": [
    "#### Behandling og sammenstilling av historiske datapunkter \n",
    "Mulige værdata kategorier man kan hente ut fra funksjonen dataframe_metar: Airport, Date/time, Wind_direction, Wind_speed, Gust_speed, Variable_wind, Cloud 1, Cloud 2, CLoud 3, Cloud 4, Cloud 5, Temperature, Dewpoint, QNH.\n"
   ]
  },
  {
   "cell_type": "code",
   "execution_count": 2,
   "metadata": {},
   "outputs": [
    {
     "name": "stdout",
     "output_type": "stream",
     "text": [
      "filene fra filbanen: ../data/json/ENOL_metar_data.json, er lagret som en dataframe for ENOL\n",
      "filene fra filbanen: ../data/json/ENBO_metar_data.json, er lagret som en dataframe for ENBO\n"
     ]
    }
   ],
   "source": [
    "import sys, os\n",
    "import pandas as pd\n",
    "\n",
    "sys.path.insert(0, '../src/')\n",
    "#henter dataFrame_metar.py fil fra src mappa.\n",
    "import dataFrame_metar as dataframe\n",
    "\n",
    "airport1 = \"ENOL\"\n",
    "airport2 = \"ENBO\"\n",
    "\n",
    "#Mulige kolonner: [\"Airport\", \"Date/time\", \"Wind_direction\", \"Wind_speed\",\"Gust_speed\", \"Variable wind\", \"Cloud 1\", \"Cloud 2\", \"Cloud 3\", \"Cloud 4\", \"Cloud 5\", \"Temperature\", \"dewpoint\", \"QNH\"]\n",
    "#Velger spesifikke kolonner med data, for å ikke ta med unødvending data videre i analysen\n",
    "column_names = [\"Airport\", \"Date/time\", \"Wind_direction\", \"Wind_speed\", \"Gust_speed\",\"Temperature\",\"Dewpoint\",\"QNH\"] \n",
    "\n",
    "\n",
    "#Henter data fra json-filene\n",
    "file_paths = {\n",
    "    f\"{airport1}\": f'../data/json/{airport1}_metar_data.json',\n",
    "    f\"{airport2}\": f'../data/json/{airport2}_metar_data.json'\n",
    "}\n",
    "\n",
    "dfs = {}\n",
    "\n",
    "#Itererer gjennom filene i file_paths for å lagre det som en data frame.\n",
    "for airport, file_path in file_paths.items():\n",
    "    if not os.path.exists(file_path):\n",
    "        print(f\"Filen {file_path} finnes ikke\")\n",
    "    else:\n",
    "        df_m = pd.read_json(file_path)\n",
    "        dfs[airport] = dataframe.metar_df(column_names, df_m)\n",
    "        #df = dataframe.metar_df(column_names, df_m)\n",
    "        print(f\"filene fra filbanen: {file_path}, er lagret som en dataframe for {airport}\")\n",
    "\n",
    "df_airport1 = dfs.get(f\"{airport1}\")\n",
    "df_airport2 = dfs.get(f\"{airport2}\")\n",
    "\n"
   ]
  },
  {
   "cell_type": "markdown",
   "metadata": {},
   "source": [
    "#### Utsnitt av en dataframe"
   ]
  },
  {
   "cell_type": "code",
   "execution_count": 3,
   "metadata": {},
   "outputs": [
    {
     "data": {
      "text/html": [
       "<div>\n",
       "<style scoped>\n",
       "    .dataframe tbody tr th:only-of-type {\n",
       "        vertical-align: middle;\n",
       "    }\n",
       "\n",
       "    .dataframe tbody tr th {\n",
       "        vertical-align: top;\n",
       "    }\n",
       "\n",
       "    .dataframe thead th {\n",
       "        text-align: right;\n",
       "    }\n",
       "</style>\n",
       "<table border=\"1\" class=\"dataframe\">\n",
       "  <thead>\n",
       "    <tr style=\"text-align: right;\">\n",
       "      <th></th>\n",
       "      <th>Airport</th>\n",
       "      <th>Date/time</th>\n",
       "      <th>Wind_direction</th>\n",
       "      <th>Wind_speed</th>\n",
       "      <th>Gust_speed</th>\n",
       "      <th>Temperature</th>\n",
       "      <th>Dewpoint</th>\n",
       "      <th>QNH</th>\n",
       "    </tr>\n",
       "  </thead>\n",
       "  <tbody>\n",
       "    <tr>\n",
       "      <th>3640</th>\n",
       "      <td>ENBO</td>\n",
       "      <td>152350Z</td>\n",
       "      <td>300</td>\n",
       "      <td>27</td>\n",
       "      <td>NaN</td>\n",
       "      <td>0</td>\n",
       "      <td>-5</td>\n",
       "      <td>1001</td>\n",
       "    </tr>\n",
       "    <tr>\n",
       "      <th>541</th>\n",
       "      <td>ENBO</td>\n",
       "      <td>120450Z</td>\n",
       "      <td>350</td>\n",
       "      <td>11</td>\n",
       "      <td>NaN</td>\n",
       "      <td>2</td>\n",
       "      <td>-1</td>\n",
       "      <td>1014</td>\n",
       "    </tr>\n",
       "    <tr>\n",
       "      <th>2184</th>\n",
       "      <td>ENBO</td>\n",
       "      <td>141920Z</td>\n",
       "      <td>90</td>\n",
       "      <td>28</td>\n",
       "      <td>NaN</td>\n",
       "      <td>-6</td>\n",
       "      <td>-12</td>\n",
       "      <td>1007</td>\n",
       "    </tr>\n",
       "    <tr>\n",
       "      <th>10739</th>\n",
       "      <td>ENBO</td>\n",
       "      <td>090220Z</td>\n",
       "      <td>250</td>\n",
       "      <td>21</td>\n",
       "      <td>NaN</td>\n",
       "      <td>15</td>\n",
       "      <td>14</td>\n",
       "      <td>1004</td>\n",
       "    </tr>\n",
       "    <tr>\n",
       "      <th>6263</th>\n",
       "      <td>ENBO</td>\n",
       "      <td>090350Z</td>\n",
       "      <td>100</td>\n",
       "      <td>12</td>\n",
       "      <td>NaN</td>\n",
       "      <td>5</td>\n",
       "      <td>-1</td>\n",
       "      <td>1014</td>\n",
       "    </tr>\n",
       "    <tr>\n",
       "      <th>16166</th>\n",
       "      <td>ENBO</td>\n",
       "      <td>290220Z</td>\n",
       "      <td>290</td>\n",
       "      <td>27</td>\n",
       "      <td>37</td>\n",
       "      <td>2</td>\n",
       "      <td>-2</td>\n",
       "      <td>1009</td>\n",
       "    </tr>\n",
       "    <tr>\n",
       "      <th>16100</th>\n",
       "      <td>ENBO</td>\n",
       "      <td>271750Z</td>\n",
       "      <td>110</td>\n",
       "      <td>8</td>\n",
       "      <td>NaN</td>\n",
       "      <td>2</td>\n",
       "      <td>0</td>\n",
       "      <td>1016</td>\n",
       "    </tr>\n",
       "    <tr>\n",
       "      <th>6668</th>\n",
       "      <td>ENBO</td>\n",
       "      <td>171120Z</td>\n",
       "      <td>170</td>\n",
       "      <td>5</td>\n",
       "      <td>NaN</td>\n",
       "      <td>21</td>\n",
       "      <td>6</td>\n",
       "      <td>1016</td>\n",
       "    </tr>\n",
       "    <tr>\n",
       "      <th>1963</th>\n",
       "      <td>ENBO</td>\n",
       "      <td>100950Z</td>\n",
       "      <td>100</td>\n",
       "      <td>17</td>\n",
       "      <td>NaN</td>\n",
       "      <td>-4</td>\n",
       "      <td>-9</td>\n",
       "      <td>1007</td>\n",
       "    </tr>\n",
       "    <tr>\n",
       "      <th>4865</th>\n",
       "      <td>ENBO</td>\n",
       "      <td>101350Z</td>\n",
       "      <td>270</td>\n",
       "      <td>7</td>\n",
       "      <td>NaN</td>\n",
       "      <td>6</td>\n",
       "      <td>6</td>\n",
       "      <td>0987</td>\n",
       "    </tr>\n",
       "  </tbody>\n",
       "</table>\n",
       "</div>"
      ],
      "text/plain": [
       "      Airport Date/time Wind_direction Wind_speed Gust_speed Temperature  \\\n",
       "3640     ENBO   152350Z            300         27        NaN           0   \n",
       "541      ENBO   120450Z            350         11        NaN           2   \n",
       "2184     ENBO   141920Z             90         28        NaN          -6   \n",
       "10739    ENBO   090220Z            250         21        NaN          15   \n",
       "6263     ENBO   090350Z            100         12        NaN           5   \n",
       "16166    ENBO   290220Z            290         27         37           2   \n",
       "16100    ENBO   271750Z            110          8        NaN           2   \n",
       "6668     ENBO   171120Z            170          5        NaN          21   \n",
       "1963     ENBO   100950Z            100         17        NaN          -4   \n",
       "4865     ENBO   101350Z            270          7        NaN           6   \n",
       "\n",
       "      Dewpoint   QNH  \n",
       "3640        -5  1001  \n",
       "541         -1  1014  \n",
       "2184       -12  1007  \n",
       "10739       14  1004  \n",
       "6263        -1  1014  \n",
       "16166       -2  1009  \n",
       "16100        0  1016  \n",
       "6668         6  1016  \n",
       "1963        -9  1007  \n",
       "4865         6  0987  "
      ]
     },
     "execution_count": 3,
     "metadata": {},
     "output_type": "execute_result"
    }
   ],
   "source": [
    "#Sjekker om dataene er lastet inn i dataframes og tester med 10 tilfeldige punkter\n",
    "df_airport2.sample(10) "
   ]
  },
  {
   "cell_type": "markdown",
   "metadata": {},
   "source": [
    "Lagerer data fra kolonnene: Airport, Date/time, Wind_direction, Wind_speed, Gust_speed og QNH. De nye csv-filene inkulderer kun de angitte kolonnenavnene, da vi anser de andre dataene som både uforutsigbare og unødvendige for vår analyse.  "
   ]
  },
  {
   "cell_type": "markdown",
   "metadata": {},
   "source": [
    "#### Lagrer dataframe som csv-filer"
   ]
  },
  {
   "cell_type": "code",
   "execution_count": 4,
   "metadata": {},
   "outputs": [
    {
     "name": "stdout",
     "output_type": "stream",
     "text": [
      "Dataframen er lagret som csv-filer.\n"
     ]
    }
   ],
   "source": [
    "df_airport1.to_csv('../data/csv/ENOL_wind_data.csv', index = False)\n",
    "df_airport2.to_csv('../data/csv/ENBO_wind_data.csv', index = False)\n",
    "print(f\"Dataframen er lagret som csv-filer.\")"
   ]
  },
  {
   "cell_type": "markdown",
   "metadata": {},
   "source": [
    "Velger flyplass"
   ]
  },
  {
   "cell_type": "code",
   "execution_count": 12,
   "metadata": {},
   "outputs": [],
   "source": [
    "airport = \"ENOL\""
   ]
  },
  {
   "cell_type": "markdown",
   "metadata": {},
   "source": [
    "### Data cleaning"
   ]
  },
  {
   "cell_type": "code",
   "execution_count": 16,
   "metadata": {},
   "outputs": [],
   "source": [
    "file_path = f'../data/csv/{airport}_wind_data.csv'\n",
    "df_airport = pd.read_csv(file_path)\n"
   ]
  },
  {
   "cell_type": "code",
   "execution_count": 17,
   "metadata": {},
   "outputs": [
    {
     "name": "stdout",
     "output_type": "stream",
     "text": [
      "<class 'pandas.core.frame.DataFrame'>\n",
      "RangeIndex: 17708 entries, 0 to 17707\n",
      "Data columns (total 8 columns):\n",
      " #   Column          Non-Null Count  Dtype  \n",
      "---  ------          --------------  -----  \n",
      " 0   Airport         17708 non-null  object \n",
      " 1   Date/time       17708 non-null  object \n",
      " 2   Wind_direction  17708 non-null  int64  \n",
      " 3   Wind_speed      17708 non-null  int64  \n",
      " 4   Gust_speed      685 non-null    float64\n",
      " 5   Temperature     17707 non-null  float64\n",
      " 6   Dewpoint        17707 non-null  float64\n",
      " 7   QNH             17708 non-null  int64  \n",
      "dtypes: float64(3), int64(3), object(2)\n",
      "memory usage: 1.1+ MB\n"
     ]
    },
    {
     "data": {
      "text/html": [
       "<div>\n",
       "<style scoped>\n",
       "    .dataframe tbody tr th:only-of-type {\n",
       "        vertical-align: middle;\n",
       "    }\n",
       "\n",
       "    .dataframe tbody tr th {\n",
       "        vertical-align: top;\n",
       "    }\n",
       "\n",
       "    .dataframe thead th {\n",
       "        text-align: right;\n",
       "    }\n",
       "</style>\n",
       "<table border=\"1\" class=\"dataframe\">\n",
       "  <thead>\n",
       "    <tr style=\"text-align: right;\">\n",
       "      <th></th>\n",
       "      <th>Airport</th>\n",
       "      <th>Date/time</th>\n",
       "      <th>Wind_direction</th>\n",
       "      <th>Wind_speed</th>\n",
       "      <th>Gust_speed</th>\n",
       "      <th>Temperature</th>\n",
       "      <th>Dewpoint</th>\n",
       "      <th>QNH</th>\n",
       "    </tr>\n",
       "  </thead>\n",
       "  <tbody>\n",
       "    <tr>\n",
       "      <th>count</th>\n",
       "      <td>17708</td>\n",
       "      <td>17708</td>\n",
       "      <td>17708.0</td>\n",
       "      <td>17708.0</td>\n",
       "      <td>685.0</td>\n",
       "      <td>17707.0</td>\n",
       "      <td>17707.0</td>\n",
       "      <td>17708.0</td>\n",
       "    </tr>\n",
       "    <tr>\n",
       "      <th>unique</th>\n",
       "      <td>1</td>\n",
       "      <td>1493</td>\n",
       "      <td>NaN</td>\n",
       "      <td>NaN</td>\n",
       "      <td>NaN</td>\n",
       "      <td>NaN</td>\n",
       "      <td>NaN</td>\n",
       "      <td>NaN</td>\n",
       "    </tr>\n",
       "    <tr>\n",
       "      <th>top</th>\n",
       "      <td>ENOL</td>\n",
       "      <td>201850Z</td>\n",
       "      <td>NaN</td>\n",
       "      <td>NaN</td>\n",
       "      <td>NaN</td>\n",
       "      <td>NaN</td>\n",
       "      <td>NaN</td>\n",
       "      <td>NaN</td>\n",
       "    </tr>\n",
       "    <tr>\n",
       "      <th>freq</th>\n",
       "      <td>17708</td>\n",
       "      <td>14</td>\n",
       "      <td>NaN</td>\n",
       "      <td>NaN</td>\n",
       "      <td>NaN</td>\n",
       "      <td>NaN</td>\n",
       "      <td>NaN</td>\n",
       "      <td>NaN</td>\n",
       "    </tr>\n",
       "    <tr>\n",
       "      <th>mean</th>\n",
       "      <td>NaN</td>\n",
       "      <td>NaN</td>\n",
       "      <td>182.3</td>\n",
       "      <td>11.8</td>\n",
       "      <td>40.3</td>\n",
       "      <td>8.0</td>\n",
       "      <td>3.9</td>\n",
       "      <td>1007.9</td>\n",
       "    </tr>\n",
       "    <tr>\n",
       "      <th>std</th>\n",
       "      <td>NaN</td>\n",
       "      <td>NaN</td>\n",
       "      <td>93.3</td>\n",
       "      <td>7.1</td>\n",
       "      <td>7.4</td>\n",
       "      <td>6.6</td>\n",
       "      <td>6.4</td>\n",
       "      <td>12.9</td>\n",
       "    </tr>\n",
       "    <tr>\n",
       "      <th>min</th>\n",
       "      <td>NaN</td>\n",
       "      <td>NaN</td>\n",
       "      <td>0.0</td>\n",
       "      <td>0.0</td>\n",
       "      <td>19.0</td>\n",
       "      <td>-14.0</td>\n",
       "      <td>-16.0</td>\n",
       "      <td>956.0</td>\n",
       "    </tr>\n",
       "    <tr>\n",
       "      <th>25%</th>\n",
       "      <td>NaN</td>\n",
       "      <td>NaN</td>\n",
       "      <td>120.0</td>\n",
       "      <td>7.0</td>\n",
       "      <td>35.0</td>\n",
       "      <td>4.0</td>\n",
       "      <td>0.0</td>\n",
       "      <td>1000.0</td>\n",
       "    </tr>\n",
       "    <tr>\n",
       "      <th>50%</th>\n",
       "      <td>NaN</td>\n",
       "      <td>NaN</td>\n",
       "      <td>140.0</td>\n",
       "      <td>11.0</td>\n",
       "      <td>40.0</td>\n",
       "      <td>8.0</td>\n",
       "      <td>4.0</td>\n",
       "      <td>1008.0</td>\n",
       "    </tr>\n",
       "    <tr>\n",
       "      <th>75%</th>\n",
       "      <td>NaN</td>\n",
       "      <td>NaN</td>\n",
       "      <td>260.0</td>\n",
       "      <td>16.0</td>\n",
       "      <td>44.0</td>\n",
       "      <td>13.0</td>\n",
       "      <td>9.0</td>\n",
       "      <td>1017.0</td>\n",
       "    </tr>\n",
       "    <tr>\n",
       "      <th>max</th>\n",
       "      <td>NaN</td>\n",
       "      <td>NaN</td>\n",
       "      <td>360.0</td>\n",
       "      <td>54.0</td>\n",
       "      <td>71.0</td>\n",
       "      <td>30.0</td>\n",
       "      <td>32.0</td>\n",
       "      <td>1040.0</td>\n",
       "    </tr>\n",
       "  </tbody>\n",
       "</table>\n",
       "</div>"
      ],
      "text/plain": [
       "       Airport Date/time  Wind_direction  Wind_speed  Gust_speed  Temperature  \\\n",
       "count    17708     17708         17708.0     17708.0       685.0      17707.0   \n",
       "unique       1      1493             NaN         NaN         NaN          NaN   \n",
       "top       ENOL   201850Z             NaN         NaN         NaN          NaN   \n",
       "freq     17708        14             NaN         NaN         NaN          NaN   \n",
       "mean       NaN       NaN           182.3        11.8        40.3          8.0   \n",
       "std        NaN       NaN            93.3         7.1         7.4          6.6   \n",
       "min        NaN       NaN             0.0         0.0        19.0        -14.0   \n",
       "25%        NaN       NaN           120.0         7.0        35.0          4.0   \n",
       "50%        NaN       NaN           140.0        11.0        40.0          8.0   \n",
       "75%        NaN       NaN           260.0        16.0        44.0         13.0   \n",
       "max        NaN       NaN           360.0        54.0        71.0         30.0   \n",
       "\n",
       "        Dewpoint      QNH  \n",
       "count    17707.0  17708.0  \n",
       "unique       NaN      NaN  \n",
       "top          NaN      NaN  \n",
       "freq         NaN      NaN  \n",
       "mean         3.9   1007.9  \n",
       "std          6.4     12.9  \n",
       "min        -16.0    956.0  \n",
       "25%          0.0   1000.0  \n",
       "50%          4.0   1008.0  \n",
       "75%          9.0   1017.0  \n",
       "max         32.0   1040.0  "
      ]
     },
     "execution_count": 17,
     "metadata": {},
     "output_type": "execute_result"
    }
   ],
   "source": [
    "df_airport.shape\n",
    "df_airport.round(1).info()\n",
    "df_airport.describe(include='all').round(1)"
   ]
  },
  {
   "cell_type": "code",
   "execution_count": 8,
   "metadata": {},
   "outputs": [
    {
     "name": "stdout",
     "output_type": "stream",
     "text": [
      "Tilfeller av missing data\n",
      "Airport               0\n",
      "Date/time             0\n",
      "Wind_direction        0\n",
      "Wind_speed            0\n",
      "Gust_speed        17259\n",
      "Temperature           2\n",
      "Dewpoint              2\n",
      "QNH                   0\n",
      "dtype: int64\n",
      "Tilfeller av registrert data\n",
      "Airport           17791\n",
      "Date/time         17791\n",
      "Wind_direction    17791\n",
      "Wind_speed        17791\n",
      "Gust_speed          532\n",
      "Temperature       17789\n",
      "Dewpoint          17789\n",
      "QNH               17791\n",
      "dtype: int64\n"
     ]
    }
   ],
   "source": [
    "# Identifiserer missing data\n",
    "print(\"Tilfeller av missing data\")\n",
    "print(df_airport.isnull().sum())\n",
    "\n",
    "print(\"Tilfeller av registrert data\")\n",
    "print(df_airport.count())"
   ]
  },
  {
   "cell_type": "markdown",
   "metadata": {},
   "source": [
    "Her ser vi at datasettet mangler svært få linjer, for de fleste kolonner, med unntak av Gust_speed.\n",
    "Det gir mening at det er manglende data for nettopp Gust_speed da dette er data som kun blir rapportert dersom den er over en nedre grense på 25 knop."
   ]
  },
  {
   "cell_type": "markdown",
   "metadata": {},
   "source": [
    "### Håndtering av datasett med mangler.\n",
    "\n",
    "#### Dette datasettet mangler april"
   ]
  },
  {
   "cell_type": "code",
   "execution_count": 9,
   "metadata": {},
   "outputs": [],
   "source": [
    "file_path_missing_data = '../data/csv/ENOL_wind_data_missing_april.csv'\n",
    "df_airport_missing_data = pd.read_csv(file_path_missing_data) # Datasett som mangler april"
   ]
  },
  {
   "cell_type": "code",
   "execution_count": 10,
   "metadata": {},
   "outputs": [
    {
     "name": "stdout",
     "output_type": "stream",
     "text": [
      "Tilfeller av missing data\n",
      "Airport            1488\n",
      "Date/time          1488\n",
      "Wind_direction     1488\n",
      "Wind_speed         1488\n",
      "Gust_speed        17080\n",
      "QNH                1488\n",
      "dtype: int64\n",
      "Tilfeller av registrert data\n",
      "Airport           16256\n",
      "Date/time         16256\n",
      "Wind_direction    16256\n",
      "Wind_speed        16256\n",
      "Gust_speed          664\n",
      "QNH               16256\n",
      "dtype: int64\n"
     ]
    }
   ],
   "source": [
    "print(\"Tilfeller av missing data\")\n",
    "print(df_airport_missing_data.isnull().sum())\n",
    "\n",
    "print(\"Tilfeller av registrert data\")\n",
    "print(df_airport_missing_data.count())"
   ]
  },
  {
   "cell_type": "markdown",
   "metadata": {},
   "source": [
    "Vi ser at det mangler store mengder data i dette settet. Vi ser nærmere på det i 06_prediktiv_analyse hvor vi også ser på msno og predikterer manglet data."
   ]
  }
 ],
 "metadata": {
  "kernelspec": {
   "display_name": "venv",
   "language": "python",
   "name": "python3"
  },
  "language_info": {
   "codemirror_mode": {
    "name": "ipython",
    "version": 3
   },
   "file_extension": ".py",
   "mimetype": "text/x-python",
   "name": "python",
   "nbconvert_exporter": "python",
   "pygments_lexer": "ipython3",
   "version": "3.13.1"
  }
 },
 "nbformat": 4,
 "nbformat_minor": 2
}
