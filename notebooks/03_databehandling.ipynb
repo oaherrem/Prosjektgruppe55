{
 "cells": [
  {
   "cell_type": "markdown",
   "metadata": {},
   "source": [
    "### Oppgave 3 - Databehandling "
   ]
  },
  {
   "cell_type": "markdown",
   "metadata": {},
   "source": [
    "#### Behandling og sammenstilling av historiske datapunkter \n",
    "Mulige værdata kategorier man kan hente ut fra funksjonen dataframe_metar: Airport, Date/time, Wind_direction, Wind_speed, Gust_speed, Variable_wind, Cloud 1, Cloud 2, CLoud 3, Cloud 4, Cloud 5, Temperature, Dewpoint, QNH.\n"
   ]
  },
  {
   "cell_type": "code",
   "execution_count": 6,
   "metadata": {},
   "outputs": [
    {
     "name": "stdout",
     "output_type": "stream",
     "text": [
      "filene fra filbanen: ../data/json/ENOL_metar_data.json, er lagret som en dataframe for ENOL\n",
      "filene fra filbanen: ../data/json/ENBO_metar_data.json, er lagret som en dataframe for ENBO\n"
     ]
    }
   ],
   "source": [
    "import sys, os\n",
    "import pandas as pd\n",
    "import nbimporter as nbi\n",
    "\n",
    "sys.path.insert(0, '../src/')\n",
    "#henter dataFrame_metar.py fil fra src mappa.\n",
    "import dataFrame_metar as dataframe\n",
    "\n",
    "airport1 = \"ENOL\"\n",
    "airport2 = \"ENBO\"\n",
    "\n",
    "#Mulige kolonner: [\"Airport\", \"Date/time\", \"Wind_direction\", \"Wind_speed\",\"Gust_speed\", \"Variable wind\", \"Cloud 1\", \"Cloud 2\", \"Cloud 3\", \"Cloud 4\", \"Cloud 5\", \"Temperature\", \"dewpoint\", \"QNH\"]\n",
    "#Velger spesifikke kolonner med data, for å ikke ta med unødvending data videre i analysen\n",
    "column_names = [\"Airport\", \"Date/time\", \"Wind_direction\", \"Wind_speed\", \"Gust_speed\",\"Temperature\",\"Dewpoint\",\"QNH\"] \n",
    "\n",
    "\n",
    "#Henter data fra json-filene\n",
    "file_paths = {\n",
    "    f\"{airport1}\": f'../data/json/{airport1}_metar_data.json',\n",
    "    f\"{airport2}\": f'../data/json/{airport2}_metar_data.json'\n",
    "}\n",
    "\n",
    "dfs = {}\n",
    "\n",
    "#Itererer gjennom filene i file_paths for å lagre det som en data frame.\n",
    "for airport, file_path in file_paths.items():\n",
    "    if not os.path.exists(file_path):\n",
    "        print(f\"Filen {file_path} finnes ikke\")\n",
    "    else:\n",
    "        df_m = pd.read_json(file_path)\n",
    "        dfs[airport] = dataframe.metar_df(column_names, df_m)\n",
    "        #df = dataframe.metar_df(column_names, df_m)\n",
    "        print(f\"filene fra filbanen: {file_path}, er lagret som en dataframe for {airport}\")\n",
    "\n",
    "df_airport1 = dfs.get(f\"{airport1}\")\n",
    "df_airport2 = dfs.get(f\"{airport2}\")\n",
    "\n"
   ]
  },
  {
   "cell_type": "markdown",
   "metadata": {},
   "source": [
    "#### Utsnitt av en dataframe"
   ]
  },
  {
   "cell_type": "code",
   "execution_count": 7,
   "metadata": {},
   "outputs": [
    {
     "data": {
      "text/html": [
       "<div>\n",
       "<style scoped>\n",
       "    .dataframe tbody tr th:only-of-type {\n",
       "        vertical-align: middle;\n",
       "    }\n",
       "\n",
       "    .dataframe tbody tr th {\n",
       "        vertical-align: top;\n",
       "    }\n",
       "\n",
       "    .dataframe thead th {\n",
       "        text-align: right;\n",
       "    }\n",
       "</style>\n",
       "<table border=\"1\" class=\"dataframe\">\n",
       "  <thead>\n",
       "    <tr style=\"text-align: right;\">\n",
       "      <th></th>\n",
       "      <th>Airport</th>\n",
       "      <th>Date/time</th>\n",
       "      <th>Wind_direction</th>\n",
       "      <th>Wind_speed</th>\n",
       "      <th>Gust_speed</th>\n",
       "      <th>Temperature</th>\n",
       "      <th>Dewpoint</th>\n",
       "      <th>QNH</th>\n",
       "    </tr>\n",
       "  </thead>\n",
       "  <tbody>\n",
       "    <tr>\n",
       "      <th>8007</th>\n",
       "      <td>ENBO</td>\n",
       "      <td>132250Z</td>\n",
       "      <td>40</td>\n",
       "      <td>6</td>\n",
       "      <td>NaN</td>\n",
       "      <td>10</td>\n",
       "      <td>9</td>\n",
       "      <td>1012</td>\n",
       "    </tr>\n",
       "    <tr>\n",
       "      <th>9790</th>\n",
       "      <td>ENBO</td>\n",
       "      <td>201350Z</td>\n",
       "      <td>10</td>\n",
       "      <td>6</td>\n",
       "      <td>NaN</td>\n",
       "      <td>19</td>\n",
       "      <td>14</td>\n",
       "      <td>1016</td>\n",
       "    </tr>\n",
       "    <tr>\n",
       "      <th>6035</th>\n",
       "      <td>ENBO</td>\n",
       "      <td>041050Z</td>\n",
       "      <td>30</td>\n",
       "      <td>7</td>\n",
       "      <td>NaN</td>\n",
       "      <td>7</td>\n",
       "      <td>0</td>\n",
       "      <td>1020</td>\n",
       "    </tr>\n",
       "    <tr>\n",
       "      <th>1541</th>\n",
       "      <td>ENBO</td>\n",
       "      <td>011550Z</td>\n",
       "      <td>300</td>\n",
       "      <td>34</td>\n",
       "      <td>45</td>\n",
       "      <td>0</td>\n",
       "      <td>-6</td>\n",
       "      <td>0987</td>\n",
       "    </tr>\n",
       "    <tr>\n",
       "      <th>8948</th>\n",
       "      <td>ENBO</td>\n",
       "      <td>030420Z</td>\n",
       "      <td>270</td>\n",
       "      <td>11</td>\n",
       "      <td>NaN</td>\n",
       "      <td>11</td>\n",
       "      <td>10</td>\n",
       "      <td>0999</td>\n",
       "    </tr>\n",
       "    <tr>\n",
       "      <th>10125</th>\n",
       "      <td>ENBO</td>\n",
       "      <td>271320Z</td>\n",
       "      <td>280</td>\n",
       "      <td>4</td>\n",
       "      <td>NaN</td>\n",
       "      <td>15</td>\n",
       "      <td>15</td>\n",
       "      <td>1010</td>\n",
       "    </tr>\n",
       "    <tr>\n",
       "      <th>2129</th>\n",
       "      <td>ENBO</td>\n",
       "      <td>131750Z</td>\n",
       "      <td>110</td>\n",
       "      <td>30</td>\n",
       "      <td>41</td>\n",
       "      <td>-1</td>\n",
       "      <td>-11</td>\n",
       "      <td>1006</td>\n",
       "    </tr>\n",
       "    <tr>\n",
       "      <th>78</th>\n",
       "      <td>ENBO</td>\n",
       "      <td>021620Z</td>\n",
       "      <td>90</td>\n",
       "      <td>21</td>\n",
       "      <td>NaN</td>\n",
       "      <td>-9</td>\n",
       "      <td>-18</td>\n",
       "      <td>1016</td>\n",
       "    </tr>\n",
       "    <tr>\n",
       "      <th>8760</th>\n",
       "      <td>ENBO</td>\n",
       "      <td>290820Z</td>\n",
       "      <td>230</td>\n",
       "      <td>10</td>\n",
       "      <td>NaN</td>\n",
       "      <td>17</td>\n",
       "      <td>16</td>\n",
       "      <td>0995</td>\n",
       "    </tr>\n",
       "    <tr>\n",
       "      <th>14968</th>\n",
       "      <td>ENBO</td>\n",
       "      <td>040950Z</td>\n",
       "      <td>100</td>\n",
       "      <td>11</td>\n",
       "      <td>NaN</td>\n",
       "      <td>3</td>\n",
       "      <td>2</td>\n",
       "      <td>1018</td>\n",
       "    </tr>\n",
       "  </tbody>\n",
       "</table>\n",
       "</div>"
      ],
      "text/plain": [
       "      Airport Date/time Wind_direction Wind_speed Gust_speed Temperature  \\\n",
       "8007     ENBO   132250Z             40          6        NaN          10   \n",
       "9790     ENBO   201350Z             10          6        NaN          19   \n",
       "6035     ENBO   041050Z             30          7        NaN           7   \n",
       "1541     ENBO   011550Z            300         34         45           0   \n",
       "8948     ENBO   030420Z            270         11        NaN          11   \n",
       "10125    ENBO   271320Z            280          4        NaN          15   \n",
       "2129     ENBO   131750Z            110         30         41          -1   \n",
       "78       ENBO   021620Z             90         21        NaN          -9   \n",
       "8760     ENBO   290820Z            230         10        NaN          17   \n",
       "14968    ENBO   040950Z            100         11        NaN           3   \n",
       "\n",
       "      Dewpoint   QNH  \n",
       "8007         9  1012  \n",
       "9790        14  1016  \n",
       "6035         0  1020  \n",
       "1541        -6  0987  \n",
       "8948        10  0999  \n",
       "10125       15  1010  \n",
       "2129       -11  1006  \n",
       "78         -18  1016  \n",
       "8760        16  0995  \n",
       "14968        2  1018  "
      ]
     },
     "execution_count": 7,
     "metadata": {},
     "output_type": "execute_result"
    }
   ],
   "source": [
    "#Sjekker om dataene er lastet inn i dataframes og tester med 10 tilfeldige punkter\n",
    "df_airport2.sample(10) "
   ]
  },
  {
   "cell_type": "markdown",
   "metadata": {},
   "source": [
    "Lagerer data fra kolonnene: Airport, Date/time, Wind_direction, Wind_speed, Gust_speed og QNH. De nye csv-filene inkulderer kun de angitte kolonnenavnene, da vi anser de andre dataene som både uforutsigbare og unødvendige for vår analyse.  "
   ]
  },
  {
   "cell_type": "markdown",
   "metadata": {},
   "source": [
    "#### Lagrer dataframe som csv-filer"
   ]
  },
  {
   "cell_type": "code",
   "execution_count": 10,
   "metadata": {},
   "outputs": [
    {
     "name": "stdout",
     "output_type": "stream",
     "text": [
      "Dataframen er lagret som csv-filer.\n"
     ]
    }
   ],
   "source": [
    "df_airport1.to_csv('../data/csv/ENOL_wind_data.csv', index = False)\n",
    "df_airport2.to_csv('../data/csv/ENBO_wind_data.csv', index = False)\n",
    "print(f\"Dataframen er lagret som csv-filer.\")"
   ]
  }
 ],
 "metadata": {
  "kernelspec": {
   "display_name": "venv",
   "language": "python",
   "name": "python3"
  },
  "language_info": {
   "codemirror_mode": {
    "name": "ipython",
    "version": 3
   },
   "file_extension": ".py",
   "mimetype": "text/x-python",
   "name": "python",
   "nbconvert_exporter": "python",
   "pygments_lexer": "ipython3",
   "version": "3.13.1"
  }
 },
 "nbformat": 4,
 "nbformat_minor": 2
}
