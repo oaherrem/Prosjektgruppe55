{
 "cells": [
  {
   "cell_type": "code",
   "execution_count": 8,
   "metadata": {},
   "outputs": [],
   "source": [
    "# Import libraries\n",
    "import numpy as np # linear algebra\n",
    "import sys  # system-specific parameters and functions\n",
    "\n",
    "sys.path.insert(0, '../data/') # add library code to path\n",
    "file_path = '..//data/ENEV,ENGM_2024-03-10.json'\n",
    "def funksjon():\n",
    "    print(file_path)"
   ]
  },
  {
   "cell_type": "code",
   "execution_count": null,
   "metadata": {},
   "outputs": [
    {
     "name": "stdout",
     "output_type": "stream",
     "text": [
      "<class 'dict'>\n",
      "{'metar': 'ENEV 100020Z 19004KT 9999 BKN061 M01/M02 Q1026 RMK WIND 1400FT 16003KT=\\nENEV 100050Z VRB03KT 9999 BKN059 M01/M02 Q1026 RMK WIND 1400FT VRB02KT=\\nENEV 100120Z VRB02KT 9999 OVC059 M02/M03 Q1026 RMK WIND 1400FT 25003KT=\\nENEV 100150Z 17002KT 9999 BKN057 M01/M02 Q1025 RMK WIND 1400FT VRB02KT=\\nENEV 100220Z 00000KT 9999 BKN057 M01/M02 Q1025 RMK WIND 1400FT 00000KT=\\nENEV 100320Z VRB01KT 9999 BKN057 M02/M03 Q1025 RMK WIND 1400FT 00000KT=\\nENEV 100350Z VRB01KT 9999 FEW049 SCT070 BKN100 M02/M03 Q1025 RMK WIND 1400FT VRB02KT=\\nENEV 100420Z 00000KT 9999 FEW068 SCT110 M02/M03 Q1025 RMK WIND 1400FT 06002KT=\\nENEV 100450Z 00000KT 9999 SCT037 BKN057 M02/M03 Q1025 RMK WIND 1400FT 07004KT=\\nENEV 100520Z 00000KT 9999 SCT051 BKN072 M03/M03 Q1025 RMK WIND 1400FT 08003KT=\\nENEV 100550Z 00000KT 9999 SCT041 BKN057 M03/M03 Q1024 RMK WIND 1400FT 06002KT=\\nENEV 100620Z 01002KT 9999 SCT055 M03/M04 Q1024 RMK WIND 1400FT VRB02KT=\\nENEV 100650Z 20002KT 9999 SCT053 M03/M03 Q1024 RMK WIND 1400FT 13003KT=\\nENEV 100720Z VRB01KT 9999 BKN049 M02/M03 Q1024 RMK WIND 1400FT 17002KT=\\nENEV 100750Z VRB03KT 9999 SCT031 BKN048 M02/M03 Q1024 RMK WIND 1400FT 18004KT=\\nENEV 100820Z 23004KT 190V250 9999 BKN027 M01/M02 Q1024 NOSIG RMK WIND 1400FT 20003KT=\\nENEV 100850Z VRB02KT 9999 BKN029 00/M01 Q1024 NOSIG RMK WIND 1400FT VRB02KT=\\nENEV 100920Z 18003KT 9999 SCT028 BKN039 00/M01 Q1024 NOSIG RMK WIND 1400FT 20003KT=\\nENEV 100950Z 19003KT 9999 BKN026 01/M02 Q1024 NOSIG RMK WIND 1400FT 19003KT=\\nENEV 101020Z 19004KT 9999 BKN026 01/M01 Q1024 NOSIG RMK WIND 1400FT 21002KT=\\nENEV 101050Z 21003KT 9999 BKN025 01/M01 Q1023 NOSIG RMK WIND 1400FT 00000KT=\\nENEV 101120Z VRB03KT 9999 BKN025 01/M01 Q1023 NOSIG RMK WIND 1400FT 00000KT=\\nENEV 101150Z 20002KT 9999 BKN024 01/M01 Q1023 NOSIG RMK WIND 1400FT 00000KT=\\nENEV 101220Z 21002KT 9999 BKN022 01/M01 Q1023 NOSIG RMK WIND 1400FT VRB01KT=\\nENEV 101250Z 16002KT 9999 BKN022 02/M01 Q1023 NOSIG RMK WIND 1400FT VRB01KT=\\nENEV 101320Z VRB02KT 9999 BKN022 02/M01 Q1023 NOSIG RMK WIND 1400FT 00000KT=\\nENEV 101350Z VRB01KT 9999 BKN047 02/M01 Q1023 NOSIG RMK WIND 1400FT VRB01KT=\\nENEV 101420Z VRB03KT 9999 SCT018 BKN049 02/M01 Q1023 NOSIG RMK WIND 1400FT VRB02KT=\\nENEV 101450Z 23003KT 9999 FEW017 BKN047 02/M02 Q1022 NOSIG RMK WIND 1400FT 01003KT=\\nENEV 101520Z VRB02KT 9999 FEW016 SCT020 BKN045 02/M02 Q1022 NOSIG RMK WIND 1400FT 04003KT=\\nENEV 101550Z VRB02KT 9999 BKN016 02/M02 Q1022 TEMPO BKN014 RMK WIND 1400FT 03005KT=\\nENEV 101620Z VRB02KT 9999 BKN016 01/M01 Q1022 TEMPO BKN014 RMK WIND 1400FT 03006KT=\\nENEV 101650Z 22003KT 200V270 9999 FEW015 BKN021 BKN029 01/M01 Q1022 TEMPO BKN014 RMK WIND 1400FT 07004KT=\\nENEV 101720Z 19003KT 9999 FEW014 BKN046 01/M01 Q1022 TEMPO BKN014 RMK WIND 1400FT 05005KT=\\nENEV 101750Z VRB03KT 9999 FEW015 BKN045 01/M02 Q1022 TEMPO BKN014 RMK WIND 1400FT 05003KT=\\nENEV 101820Z 16002KT 9999 FEW015 BKN046 01/M02 Q1022 TEMPO BKN014 RMK WIND 1400FT 04004KT=\\nENEV 101850Z VRB01KT 9999 SCT015 BKN047 01/M02 Q1022 TEMPO BKN014 RMK WIND 1400FT 02004KT=\\nENEV 101920Z 00000KT 9999 SCT015 BKN048 01/M02 Q1022 TEMPO BKN014 RMK WIND 1400FT 02005KT WIND RWY 35 00000KT=\\nENEV 101950Z 00000KT 9999 FEW015 BKN030 01/M02 Q1022 TEMPO BKN014 RMK WIND 1400FT 04006KT=\\nENEV 102020Z 00000KT 9999 SCT020 BKN047 00/M01 Q1022 TEMPO BKN014 RMK WIND 1400FT 03006KT=\\nENEV 102020Z 00000KT 9999 SCT020 BKN047 00/M01 Q1022 TEMPO BKN014 RMK WIND 1400FT 03006KT=\\nENEV 102050Z 00000KT 9999 BKN048 00/M02 Q1022 TEMPO BKN014 RMK WIND 1400FT 02005KT=\\nENEV 102120Z 05001KT 9999 BKN048 M00/M02 Q1021 NOSIG RMK WIND 1400FT 03004KT=\\nENEV 102150Z 00000KT 9999 BKN046 M00/M02 Q1021 NOSIG RMK WIND 1400FT 04004KT=\\nENEV 102220Z 00000KT 9999 FEW017 OVC047 M00/M02 Q1021 NOSIG RMK WIND 1400FT 02006KT=\\nENEV 102250Z 00000KT 9999 SCT016 OVC047 M00/M02 Q1021 NOSIG RMK WIND 1400FT 02004KT=\\nENEV 102320Z VRB02KT 9999 BKN016 OVC047 M01/M02 Q1021 RMK WIND 1400FT 36006KT=\\nENEV 102350Z VRB02KT 9999 OVC014 M01/M02 Q1021 RMK WIND 1400FT 02008KT=\\nENGM 100020Z 09006KT 060V130 9999 OVC020 M02/M06 Q1022=\\nENGM 100050Z 09005KT 050V130 9999 OVC019 M02/M06 Q1022=\\nENGM 100120Z 07008KT 9999 OVC019 M02/M06 Q1022=\\nENGM 100150Z 08007KT 9999 OVC019 M02/M06 Q1022=\\nENGM 100220Z 09005KT 050V120 9999 OVC018 M02/M06 Q1022=\\nENGM 100250Z 07007KT 9999 OVC018 M03/M06 Q1022=\\nENGM 100320Z 08008KT 9999 OVC018 M03/M06 Q1022=\\nENGM 100350Z 07006KT 9999 OVC017 M03/M06 Q1022=\\nENGM 100420Z 07006KT 9999 OVC017 M03/M06 Q1022=\\nENGM 100450Z 07007KT 9999 OVC016 M03/M06 Q1022 NOSIG=\\nENGM 100520Z 06007KT 9999 OVC015 M03/M06 Q1022 TEMPO BKN012=\\nENGM 100550Z 06006KT 9999 VCSH BKN015 M03/M06 Q1022 TEMPO BKN012=\\nENGM 100620Z 05007KT 9999 -SN OVC012 M03/M05 Q1022 TEMPO BKN015=\\nENGM 100650Z 06006KT 020V100 9999 -SN BKN011 M04/M05 Q1023 TEMPO BKN015=\\nENGM 100720Z 05007KT 9999 -FZDZ BKN011 M04/M05 Q1023 TEMPO BKN015=\\nENGM 100750Z 06006KT 9999 -SN FEW018 BKN021 M04/M06 Q1023 NOSIG=\\nENGM 100820Z 04007KT 9999 -SN FEW015 BKN018 M04/M06 Q1023 NOSIG=\\nENGM 100850Z 04007KT 9999 -FZDZ FEW012 BKN018 M04/M06 Q1023 NOSIG=\\nENGM 100920Z 03007KT 9000 -FZDZ FEW011 BKN013 M03/M05 Q1023 TEMPO NSW BKN015=\\nENGM 100950Z 03007KT 9999 -FZDZ SCT010 BKN015 M03/M05 Q1023 TEMPO NSW BKN012=\\nENGM 101020Z 03008KT 9999 -FZDZ FEW008 BKN010 M03/M05 Q1022 TEMPO NSW BKN015=\\nENGM 101050Z 04007KT 9999 -FZDZ FEW009 BKN011 M03/M05 Q1022 TEMPO BKN015=\\nENGM 101120Z 04007KT 9999 -FZDZ FEW010 BKN014 M03/M05 Q1022 TEMPO BKN015=\\nENGM 101150Z 06007KT 030V100 9999 VCSH OVC012 M03/M05 Q1022 TEMPO BKN015=\\nENGM 101220Z 08007KT 040V100 9999 VCSH OVC014 M03/M05 Q1022 TEMPO BKN015=\\nENGM 101250Z 05007KT 9999 VCSH BKN016 M02/M06 Q1022 NOSIG=\\nENGM 101320Z 05009KT 9999 BKN016 M02/M05 Q1022 NOSIG=\\nENGM 101350Z 06007KT 9999 BKN017 M02/M06 Q1022 NOSIG=\\nENGM 101420Z 06006KT 9999 BKN018 M02/M06 Q1022 NOSIG=\\nENGM 101450Z 05006KT 020V100 9999 BKN018 M02/M06 Q1022 NOSIG=\\nENGM 101520Z 04006KT 9999 BKN019 M02/M06 Q1022=\\nENGM 101550Z 04006KT 9999 BKN019 M02/M06 Q1022 NOSIG=\\nENGM 101620Z 05006KT 9999 BKN019 M02/M06 Q1022 NOSIG=\\nENGM 101650Z 04006KT 9999 BKN020 M02/M05 Q1022 NOSIG=\\nENGM 101720Z 04006KT 010V070 9999 BKN021 M02/M06 Q1022 NOSIG=\\nENGM 101750Z 03006KT 9999 BKN023 M02/M06 Q1022 NOSIG=\\nENGM 101820Z 03006KT 9999 BKN023 M02/M06 Q1022 NOSIG=\\nENGM 101850Z 03006KT 9999 BKN023 M02/M06 Q1022 NOSIG=\\nENGM 101920Z 03007KT 9999 BKN023 M02/M06 Q1022 NOSIG=\\nENGM 101950Z 03007KT 9999 BKN023 M02/M06 Q1022 NOSIG=\\nENGM 102020Z 03006KT 9999 BKN023 M02/M06 Q1022 NOSIG=\\nENGM 102050Z 03006KT 9999 BKN023 M03/M06 Q1022 NOSIG=\\nENGM 102120Z 03006KT 9999 BKN022 M03/M06 Q1022 NOSIG=\\nENGM 102150Z 02006KT 9999 BKN023 M03/M06 Q1022 NOSIG=\\nENGM 102220Z 02006KT 9999 BKN022 M03/M06 Q1022=\\nENGM 102250Z 02006KT 9999 BKN022 M03/M06 Q1022=\\nENGM 102320Z 02006KT 9999 BKN024 M03/M06 Q1022=\\nENGM 102350Z 02006KT 9999 BKN025 M03/M06 Q1022=\\n\\n', 'taf': 'ENEV 100500Z 1006/1106 VRB03KT 9999 FEW015 BKN025 TEMPO 1006/1009 4000 -SNRA VV014=\\nENEV 101100Z 1012/1112 VRB03KT 9999 SCT014 BKN025 TEMPO 1016/1022 BKN014=\\nENEV 101700Z 1018/1118 VRB03KT 9999 SCT014 BKN025 TEMPO 1018/1022 BKN014 PROB30 TEMPO 1022/1106 0800 FZFG VV007=\\nENEV 102300Z 1100/1124 VRB03KT 9999 SCT015 BKN020 TEMPO 1100/1106 BKN014 PROB30 TEMPO 1100/1106 0800 FZFG VV007=\\nENGM 100500Z 1006/1106 07007KT 9999 BKN018 PROB30 1006/1010 BKN012=\\nENGM 100714Z 1007/1106 07007KT 9999 BKN018 PROB30 1007/1010 -FZDZ BKN012=\\nENGM 100953Z 1009/1106 05007KT 9999 BKN015 TEMPO 1009/1012 -FZDZ BKN012=\\nENGM 101100Z 1012/1112 05007KT 9999 BKN015 PROB40 TEMPO 1012/1014 -FZDZ BKN012=\\nENGM 101700Z 1018/1118 04008KT 9999 BKN018 PROB40 1103/1111 BKN012=\\nENGM 102300Z 1100/1124 04008KT 9999 BKN020 PROB30 TEMPO 1103/1109 BKN012=\\n\\n'}\n"
     ]
    }
   ],
   "source": [
    "import json\n",
    "import pandas as pd\n",
    "\n",
    "# Åpne filen og last inn JSON-dataene\n",
    "with open('../data/ENEV,ENGM_2024-03-10.json', 'r') as file:\n",
    "    data = json.load(file)\n",
    "\n",
    "# Skriv ut dataene\n",
    "print(type(data))\n",
    "print(data)\n",
    "\n"
   ]
  },
  {
   "cell_type": "code",
   "execution_count": 47,
   "metadata": {},
   "outputs": [
    {
     "ename": "NotImplementedError",
     "evalue": "",
     "output_type": "error",
     "traceback": [
      "\u001b[1;31m---------------------------------------------------------------------------\u001b[0m",
      "\u001b[1;31mNotImplementedError\u001b[0m                       Traceback (most recent call last)",
      "Cell \u001b[1;32mIn[47], line 14\u001b[0m\n\u001b[0;32m     10\u001b[0m wind_df_list \u001b[38;5;241m=\u001b[39m []\n\u001b[0;32m     12\u001b[0m \u001b[38;5;28;01mfor\u001b[39;00m key, value \u001b[38;5;129;01min\u001b[39;00m data\u001b[38;5;241m.\u001b[39mitems():\n\u001b[0;32m     13\u001b[0m     \u001b[38;5;66;03m# Bruk pandas.json_normalize for å normalisere JSON-dataene\u001b[39;00m\n\u001b[1;32m---> 14\u001b[0m     wind_df \u001b[38;5;241m=\u001b[39m \u001b[43mjson_normalize\u001b[49m\u001b[43m(\u001b[49m\u001b[43mdata\u001b[49m\u001b[43m[\u001b[49m\u001b[43mkey\u001b[49m\u001b[43m]\u001b[49m\u001b[43m)\u001b[49m\n\u001b[0;32m     16\u001b[0m     \u001b[38;5;66;03m# Fjern eventuelle prefikser fra kolonnenavnene\u001b[39;00m\n\u001b[0;32m     17\u001b[0m     wind_df\u001b[38;5;241m.\u001b[39mcolumns \u001b[38;5;241m=\u001b[39m wind_df\u001b[38;5;241m.\u001b[39mcolumns\u001b[38;5;241m.\u001b[39mstr\u001b[38;5;241m.\u001b[39mreplace(\u001b[38;5;124m'\u001b[39m\u001b[38;5;124msubjects.\u001b[39m\u001b[38;5;124m'\u001b[39m, \u001b[38;5;124m'\u001b[39m\u001b[38;5;124m'\u001b[39m, regex\u001b[38;5;241m=\u001b[39m\u001b[38;5;28;01mFalse\u001b[39;00m)\n",
      "File \u001b[1;32mc:\\Users\\hanna\\OneDrive\\Desktop\\Python\\TDT4114\\Prosjektgruppe55\\venv\\Lib\\site-packages\\pandas\\io\\json\\_normalize.py:445\u001b[0m, in \u001b[0;36mjson_normalize\u001b[1;34m(data, record_path, meta, meta_prefix, record_prefix, errors, sep, max_level)\u001b[0m\n\u001b[0;32m    443\u001b[0m     data \u001b[38;5;241m=\u001b[39m \u001b[38;5;28mlist\u001b[39m(data)\n\u001b[0;32m    444\u001b[0m \u001b[38;5;28;01melse\u001b[39;00m:\n\u001b[1;32m--> 445\u001b[0m     \u001b[38;5;28;01mraise\u001b[39;00m \u001b[38;5;167;01mNotImplementedError\u001b[39;00m\n\u001b[0;32m    447\u001b[0m \u001b[38;5;66;03m# check to see if a simple recursive function is possible to\u001b[39;00m\n\u001b[0;32m    448\u001b[0m \u001b[38;5;66;03m# improve performance (see #15621) but only for cases such\u001b[39;00m\n\u001b[0;32m    449\u001b[0m \u001b[38;5;66;03m# as pd.Dataframe(data) or pd.Dataframe(data, sep)\u001b[39;00m\n\u001b[0;32m    450\u001b[0m \u001b[38;5;28;01mif\u001b[39;00m (\n\u001b[0;32m    451\u001b[0m     record_path \u001b[38;5;129;01mis\u001b[39;00m \u001b[38;5;28;01mNone\u001b[39;00m\n\u001b[0;32m    452\u001b[0m     \u001b[38;5;129;01mand\u001b[39;00m meta \u001b[38;5;129;01mis\u001b[39;00m \u001b[38;5;28;01mNone\u001b[39;00m\n\u001b[1;32m   (...)\u001b[0m\n\u001b[0;32m    455\u001b[0m     \u001b[38;5;129;01mand\u001b[39;00m max_level \u001b[38;5;129;01mis\u001b[39;00m \u001b[38;5;28;01mNone\u001b[39;00m\n\u001b[0;32m    456\u001b[0m ):\n",
      "\u001b[1;31mNotImplementedError\u001b[0m: "
     ]
    }
   ],
   "source": [
    "import json\n",
    "import numpy as np\n",
    "import pandas as pd\n",
    "from pandas import json_normalize\n",
    "\n",
    "# Åpne filen og last inn JSON-dataene\n",
    "with open('../data/ENEV,ENGM_2024-03-10.json', 'r') as file:\n",
    "    data = json.load(file)\n",
    "\n",
    "wind_df_list = []\n",
    "\n",
    "for key, value in data.items():\n",
    "    # Bruk pandas.json_normalize for å normalisere JSON-dataene\n",
    "    wind_df = json_normalize(data[key])\n",
    "\n",
    "    # Fjern eventuelle prefikser fra kolonnenavnene\n",
    "    wind_df.columns = wind_df.columns.str.replace('subjects.', '', regex=False)\n",
    "    \n",
    "    # Legg til en kolonne for grad\n",
    "    wind_df['grade'] = key\n",
    "    \n",
    "    # Legg til DataFrame til listen\n",
    "    wind_df_list.append(wind_df)\n",
    "\n",
    "# Kombiner alle DataFrames i listen til en enkelt DataFrame\n",
    "combined_wind_df = pd.concat(wind_df_list, ignore_index=True)\n",
    "\n",
    "# Skriv ut de første radene i den kombinerte DataFrame\n",
    "print(combined_wind_df.head())\n"
   ]
  },
  {
   "cell_type": "code",
   "execution_count": 42,
   "metadata": {},
   "outputs": [],
   "source": [
    "def load_data(file_name):\n",
    "    try:        \n",
    "        # Load the JSON data\n",
    "        with open(file_name) as f:\n",
    "            data = json.load(f)\n",
    "        return data\n",
    "    except FileNotFoundError:\n",
    "        print(\"File not found!\")  \n",
    "        return None \n",
    "    \n",
    "data = load_data(\"../data/ENEV,ENGM_2024-03-10.json\")"
   ]
  },
  {
   "cell_type": "code",
   "execution_count": 29,
   "metadata": {},
   "outputs": [
    {
     "name": "stdout",
     "output_type": "stream",
     "text": [
      "a    {'metar': 'ENEV 100020Z 19004KT 9999 BKN061 M0...\n",
      "b    {'metar': 'ENEV 100020Z 19004KT 9999 BKN061 M0...\n",
      "c    {'metar': 'ENEV 100020Z 19004KT 9999 BKN061 M0...\n",
      "d    {'metar': 'ENEV 100020Z 19004KT 9999 BKN061 M0...\n",
      "e    {'metar': 'ENEV 100020Z 19004KT 9999 BKN061 M0...\n",
      "f    {'metar': 'ENEV 100020Z 19004KT 9999 BKN061 M0...\n",
      "g    {'metar': 'ENEV 100020Z 19004KT 9999 BKN061 M0...\n",
      "h    {'metar': 'ENEV 100020Z 19004KT 9999 BKN061 M0...\n",
      "i    {'metar': 'ENEV 100020Z 19004KT 9999 BKN061 M0...\n",
      "dtype: object\n",
      "a    False\n",
      "b    False\n",
      "c    False\n",
      "d    False\n",
      "e    False\n",
      "f    False\n",
      "g    False\n",
      "h    False\n",
      "i    False\n",
      "dtype: bool\n",
      "a    {'metar': 'ENEV 100020Z 19004KT 9999 BKN061 M0...\n",
      "b    {'metar': 'ENEV 100020Z 19004KT 9999 BKN061 M0...\n",
      "c    {'metar': 'ENEV 100020Z 19004KT 9999 BKN061 M0...\n",
      "d    {'metar': 'ENEV 100020Z 19004KT 9999 BKN061 M0...\n",
      "e    {'metar': 'ENEV 100020Z 19004KT 9999 BKN061 M0...\n",
      "f    {'metar': 'ENEV 100020Z 19004KT 9999 BKN061 M0...\n",
      "g    {'metar': 'ENEV 100020Z 19004KT 9999 BKN061 M0...\n",
      "h    {'metar': 'ENEV 100020Z 19004KT 9999 BKN061 M0...\n",
      "i    {'metar': 'ENEV 100020Z 19004KT 9999 BKN061 M0...\n",
      "dtype: object\n"
     ]
    }
   ],
   "source": [
    "import pandas as pd\n",
    "\n",
    "index = ['a', 'b', 'c', 'd', 'e', 'f', 'g', 'h', 'i']\n",
    "my_series = pd.Series(str(data) , index=index)\n",
    "\n",
    "\n",
    "print(my_series)\n",
    "print(my_series.isna())\n",
    "print(my_series.fillna(0))"
   ]
  },
  {
   "cell_type": "code",
   "execution_count": 7,
   "metadata": {},
   "outputs": [
    {
     "name": "stdout",
     "output_type": "stream",
     "text": [
      "Wind Speeds: [19004 17002     0     0     0     0     0  1002 20002 23004 18003 19003\n",
      " 19004 21003 20002 21002 16002 23003 22003 19003 16002     0  2005     0\n",
      "     0     0     0  5001     0     0     0  9006  9005  7008  8007  9005\n",
      "  7007  8008  7006  7006  7007  6007  6006  5007  6006  5007  6006  4007\n",
      "  4007  3007  3007  3008  4007  4007  6007  8007  5007  5009  6007  6006\n",
      "  5006  4006  4006  5006  4006  4006  3006  3006  3006  3007  3007  3006\n",
      "  3006  3006  2006  2006  2006  2006  2006]\n"
     ]
    }
   ],
   "source": [
    "\n",
    "# Hent METAR og TAF data\n",
    "metar_data = data.get(\"metar\", \"\")\n",
    "taf_data = data.get(\"taf\", \"\")\n",
    "\n",
    "# Eksempel på hvordan du kan hente spesifikk data fra METAR og TAF\n",
    "# Her antar vi at vi vil hente ut vindhastighet fra METAR-dataene\n",
    "\n",
    "# Funksjon for å hente ut vindhastighet fra METAR-strengen\n",
    "def extract_wind_speed(metar_str):\n",
    "    wind_speeds = []\n",
    "    for line in metar_str.split('\\n'):\n",
    "        if 'KT' in line:\n",
    "            parts = line.split()\n",
    "            for part in parts:\n",
    "                if part.endswith('KT'): # or part.endswith('KT=\\nENSB'):\n",
    "                    try:\n",
    "                        wind_speed = int(part[:-2])\n",
    "                        wind_speeds.append(wind_speed)\n",
    "                    except ValueError:\n",
    "                        continue\n",
    "    return wind_speeds\n",
    "\n",
    "# Hent vindhastigheter fra METAR-dataene\n",
    "wind_speeds = extract_wind_speed(metar_data)\n",
    "\n",
    "# Konverter til NumPy-array\n",
    "wind_speeds_np = np.array(wind_speeds)\n",
    "\n",
    "# Eksempel på rensing av data: fjern NaN-verdier\n",
    "wind_speeds_clean = wind_speeds_np[~np.isnan(wind_speeds_np)]\n",
    "\n",
    "# Skriv ut rensede data\n",
    "print(\"Wind Speeds:\", wind_speeds_clean)\n",
    "\n",
    "# denne koden fungerer med 'FT', 'Z' og 'KT'"
   ]
  },
  {
   "cell_type": "markdown",
   "metadata": {},
   "source": []
  }
 ],
 "metadata": {
  "kernelspec": {
   "display_name": "venv",
   "language": "python",
   "name": "python3"
  },
  "language_info": {
   "codemirror_mode": {
    "name": "ipython",
    "version": 3
   },
   "file_extension": ".py",
   "mimetype": "text/x-python",
   "name": "python",
   "nbconvert_exporter": "python",
   "pygments_lexer": "ipython3",
   "version": "3.13.1"
  }
 },
 "nbformat": 4,
 "nbformat_minor": 2
}
