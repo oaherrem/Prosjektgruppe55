{
 "cells": [
  {
   "cell_type": "code",
   "execution_count": null,
   "metadata": {},
   "outputs": [],
   "source": [
    "# Import libraries\n",
    "import numpy as np # linear algebra\n",
    "import sys  # system-specific parameters and functions\n",
    "\n",
    "sys.path.insert(0, '../data/') # add library code to path\n",
    "file_path = '..//data/metar_ENVA,ENOL_2024-03-01.json'\n",
    "def funksjon():\n",
    "    print(file_path)"
   ]
  },
  {
   "cell_type": "code",
   "execution_count": 14,
   "metadata": {},
   "outputs": [
    {
     "name": "stdout",
     "output_type": "stream",
     "text": [
      "<class 'dict'>\n",
      "{'metar': 'ENOL 010020Z 15018KT CAVOK 07/M02 Q0995=\\nENOL 010050Z 14018KT CAVOK 07/M02 Q0996=\\nENOL 010120Z 14017KT CAVOK 07/M01 Q0996=\\nENOL 010150Z 14018KT CAVOK 08/M01 Q0996=\\nENOL 010220Z 14018KT CAVOK 08/M01 Q0996=\\nENOL 010250Z 15019KT CAVOK 08/M01 Q0996=\\nENOL 010320Z 15018KT CAVOK 08/M01 Q0997=\\nENOL 010350Z 15015KT CAVOK 08/M01 Q0997=\\nENOL 010420Z 15018KT CAVOK 08/M01 Q0997=\\nENOL 010450Z 14015KT CAVOK 08/M01 Q0997=\\nENOL 010520Z 15014KT CAVOK 08/M00 Q0998=\\nENOL 010550Z 14012KT CAVOK 08/01 Q0998=\\nENOL 010620Z 14017KT CAVOK 08/01 Q0998 NOSIG=\\nENOL 010650Z 12017KT CAVOK 08/01 Q0998 NOSIG=\\nENOL 010720Z 12010KT CAVOK 08/01 Q0999 NOSIG=\\nENOL 010750Z 12009KT CAVOK 08/02 Q0999 NOSIG=\\nENOL 010820Z 12009KT CAVOK 07/02 Q0999 NOSIG=\\nENOL 010850Z 12008KT CAVOK 08/02 Q0999 NOSIG=\\nENOL 010920Z 12008KT CAVOK 08/02 Q0999 NOSIG=\\nENOL 010950Z 14013KT CAVOK 08/02 Q1000 NOSIG=\\nENOL 011020Z 14010KT CAVOK 08/02 Q1000 NOSIG=\\nENOL 011050Z 13009KT CAVOK 08/02 Q1000 NOSIG=\\nENOL 011120Z 12009KT CAVOK 08/02 Q1000 NOSIG=\\nENOL 011150Z 13010KT CAVOK 09/02 Q1000 NOSIG=\\nENOL 011220Z 14013KT CAVOK 09/02 Q1000 NOSIG=\\nENOL 011250Z 14014KT CAVOK 09/02 Q1000 NOSIG=\\nENOL 011320Z 13014KT CAVOK 09/02 Q1000 NOSIG=\\nENOL 011350Z 13015KT CAVOK 09/01 Q1000 NOSIG=\\nENOL 011420Z 11010KT CAVOK 08/02 Q1000 NOSIG=\\nENOL 011450Z 13015KT CAVOK 09/01 Q1000 NOSIG=\\nENOL 011520Z 13015KT CAVOK 08/01 Q0999 TEMPO 14018G28KT=\\nENOL 011550Z 13014KT CAVOK 08/01 Q1000 TEMPO 14018G28KT=\\nENOL 011620Z 14013KT CAVOK 08/01 Q1000 TEMPO 14018G28KT=\\nENOL 011650Z 12012KT CAVOK 07/01 Q1000 TEMPO 14018G28KT=\\nENOL 011720Z 12013KT CAVOK 07/00 Q1000 TEMPO 14018G28KT=\\nENOL 011750Z 12015KT CAVOK 08/00 Q1000 TEMPO 14018G28KT=\\nENOL 011820Z 13019G29KT CAVOK 07/00 Q0999 TEMPO 13014KT=\\nENOL 011850Z 13020KT CAVOK 07/01 Q1000 TEMPO 14020G30KT=\\nENOL 011920Z 13021G31KT CAVOK 07/00 Q1000 TEMPO 13014KT=\\nENOL 011950Z 14021KT CAVOK 07/00 Q1000 TEMPO 14022G32KT=\\nENOL 012020Z 14024KT CAVOK 07/00 Q1001 NOSIG=\\nENOL 012050Z 14024KT CAVOK 07/00 Q1001 NOSIG=\\nENOL 012120Z 15025KT CAVOK 07/00 Q1002 NOSIG=\\nENOL 012150Z 14020KT CAVOK 07/00 Q1002 TEMPO 14021G31KT=\\nENOL 012220Z 14019KT CAVOK 07/M01 Q1003=\\nENOL 012250Z 14017KT CAVOK 07/M01 Q1003=\\nENOL 012320Z 13017KT CAVOK 07/M01 Q1004=\\nENOL 012350Z 13017KT CAVOK 07/M01 Q1004=\\nENVA 010020Z VRB06KT 9999 OVC110/// 08/M01 Q0998 RMK WIND 670FT 18022G39KT=\\nENVA 010050Z 13004KT 9999 OVC100/// 08/M01 Q0998 RMK WIND 670FT 17022KT=\\nENVA 010120Z VRB08G21KT 9999 OVC100/// 08/M01 Q0998 RMK WIND 670FT 18026G41KT=\\nENVA 010150Z 16012G23KT 120V190 9999 OVC092/// 08/M00 Q0998 RMK WIND 670FT 18026G40KT=\\nENVA 010220Z 14011G23KT 100V210 9999 OVC088/// 08/M00 Q0999 RMK WIND 670FT 18024G35KT=\\nENVA 010250Z 11008KT 060V150 9999 OVC083/// 08/M00 Q0999 RMK WIND 670FT 17024G34KT=\\nENVA 010320Z 15018KT 9999 OVC076/// 08/M00 Q0999 RMK WIND 670FT 17026KT=\\nENVA 010350Z 15019KT 9999 OVC071/// 08/01 Q0999 RMK WIND 670FT 16025KT=\\nENVA 010420Z 15018KT CAVOK 08/01 Q1000 RMK WIND 670FT 16021KT=\\nENVA 010450Z 15016KT CAVOK 08/01 Q1000 RMK WIND 670FT 15026KT=\\nENVA 010520Z 13014KT 100V160 CAVOK 08/01 Q1000 RMK WIND 670FT 15024KT=\\nENVA 010550Z 14015KT CAVOK 08/01 Q1000 NOSIG RMK WIND 670FT 14017KT=\\nENVA 010620Z 12012KT CAVOK 08/01 Q1000 NOSIG RMK WIND 670FT 14016KT=\\nENVA 010650Z 10012KT CAVOK 08/01 Q1000 NOSIG RMK WIND 670FT 13012G23KT=\\nENVA 010720Z 11009KT 080V140 CAVOK 08/02 Q1000 NOSIG RMK WIND 670FT 16015G26KT=\\nENVA 010750Z 12012KT CAVOK 09/02 Q1000 NOSIG RMK WIND 670FT 15014KT=\\nENVA 010820Z 13013KT CAVOK 09/02 Q1000 NOSIG RMK WIND 670FT 16019KT=\\nENVA 010850Z 14015KT CAVOK 09/02 Q1000 NOSIG RMK WIND 670FT 16021G33KT=\\nENVA 010920Z 14016KT CAVOK 09/02 Q1001 NOSIG RMK WIND 670FT 16023KT=\\nENVA 010950Z 14011KT CAVOK 09/01 Q1001 NOSIG RMK WIND 670FT 16021KT=\\nENVA 011020Z 13006KT 090V170 CAVOK 10/01 Q1001 NOSIG RMK WIND 670FT 16017KT=\\nENVA 011050Z 10010KT CAVOK 10/01 Q1001 NOSIG RMK WIND 670FT 16018G28KT=\\nENVA 011120Z VRB09G20KT 9999 -RA FEW036 BKN053 09/01 Q1002 TEMPO 16015G30KT RMK WIND 670FT 17025G38KT=\\nENVA 011150Z 15015KT 9999 -RA FEW040 BKN055 08/02 Q1002 TEMPO 16015G25KT RMK WIND 670FT 16022KT=\\nENVA 011220Z 14010KT 9999 -RA SCT048 BKN064 08/02 Q1002 TEMPO 16015G25KT RMK WIND 670FT 16021G31KT=\\nENVA 011250Z 14010KT 9999 -RA SCT050 BKN073 08/01 Q1002 TEMPO 16015G25KT RMK WIND 670FT 16021KT=\\nENVA 011320Z 13008KT 090V180 9999 FEW050 BKN075 09/01 Q1002 TEMPO 16015G25KT RMK WIND 670FT 16018G30KT=\\nENVA 011350Z 14013KT 120V180 9999 FEW050 BKN070 09/01 Q1002 TEMPO 16015G25KT RMK WIND 670FT 17028G44KT=\\nENVA 011420Z 11010KT 060V160 9999 FEW050 BKN070 09/01 Q1002 TEMPO 16015G25KT RMK WIND 670FT 16025G38KT=\\nENVA 011450Z 14017KT CAVOK 09/01 Q1002 TEMPO 16015G25KT RMK WIND 670FT 15025KT=\\nENVA 011520Z 14010KT 110V180 CAVOK 08/01 Q1002 TEMPO 16015G25KT RMK WIND 670FT 16015G25KT=\\nENVA 011550Z 16011KT CAVOK 08/00 Q1002 TEMPO 16015G25KT RMK WIND 670FT 14013G23KT=\\nENVA 011620Z 12013KT CAVOK 08/00 Q1002 NOSIG RMK WIND 670FT 13012G23KT=\\nENVA 011650Z 12010KT CAVOK 08/00 Q1002 NOSIG RMK WIND 670FT 12010G20KT=\\nENVA 011720Z 13008KT 090V160 CAVOK 08/00 Q1002 NOSIG RMK WIND 670FT 15017G27KT=\\nENVA 011750Z VRB05KT CAVOK 08/00 Q1002 NOSIG RMK WIND 670FT 15017G33KT=\\nENVA 011820Z 12006KT 020V180 CAVOK 08/00 Q1003 NOSIG RMK WIND 670FT 16014KT=\\nENVA 011850Z 14009KT 100V230 CAVOK 08/00 Q1003 NOSIG RMK WIND 670FT 14017G30KT=\\nENVA 011920Z 10010KT 060V140 CAVOK 07/00 Q1003 NOSIG RMK WIND 670FT 14014G27KT=\\nENVA 011950Z 14009G21KT 080V200 CAVOK 07/M00 Q1004 NOSIG RMK WIND 670FT 14018G30KT=\\nENVA 012020Z 14017KT 100V160 CAVOK 07/M01 Q1003 NOSIG RMK WIND 670FT 15029KT=\\nENVA 012050Z 15011G24KT 120V200 CAVOK 07/M02 Q1005 RMK WIND 670FT 16017KT=\\nENVA 012120Z 13016G29KT CAVOK 07/M01 Q1005 RMK WIND 670FT 15021G31KT=\\nENVA 012150Z 13015KT 9999 SCT150/// 07/M01 Q1005 RMK WIND 670FT 15019G32KT=\\nENVA 012220Z 09003KT 9999 FEW150/// SCT200/// 07/M01 Q1005 RMK WIND 670FT 16021KT=\\nENVA 012250Z 15011KT 120V190 9999 SCT190/// 07/M01 Q1005 RMK WIND 670FT 17021G32KT=\\nENVA 012320Z 13005G15KT 9999 SCT160/// 07/M01 Q1006 RMK WIND 670FT 17024G36KT=\\nENVA 012350Z VRB05KT 9999 FEW110/// 07/M02 Q1006 RMK WIND 670FT 17022G39KT=\\n\\n'}\n"
     ]
    },
    {
     "ename": "TypeError",
     "evalue": "'dict' object is not callable",
     "output_type": "error",
     "traceback": [
      "\u001b[1;31m---------------------------------------------------------------------------\u001b[0m",
      "\u001b[1;31mTypeError\u001b[0m                                 Traceback (most recent call last)",
      "Cell \u001b[1;32mIn[14], line 12\u001b[0m\n\u001b[0;32m      9\u001b[0m \u001b[38;5;28mprint\u001b[39m(\u001b[38;5;28mtype\u001b[39m(data))\n\u001b[0;32m     10\u001b[0m \u001b[38;5;28mprint\u001b[39m(data)\n\u001b[1;32m---> 12\u001b[0m my_string \u001b[38;5;241m=\u001b[39m \u001b[38;5;28mstr\u001b[39m(\u001b[43mdata\u001b[49m\u001b[43m(\u001b[49m\u001b[43m)\u001b[49m)\n\u001b[0;32m     13\u001b[0m lines_from_string \u001b[38;5;241m=\u001b[39m my_string\u001b[38;5;241m.\u001b[39msplitlines()\n\u001b[0;32m     14\u001b[0m \u001b[38;5;28;01mfor\u001b[39;00m line \u001b[38;5;129;01min\u001b[39;00m lines_from_string:\n",
      "\u001b[1;31mTypeError\u001b[0m: 'dict' object is not callable"
     ]
    }
   ],
   "source": [
    "import json\n",
    "import pandas as pd\n",
    "\n",
    "# Åpne filen og last inn JSON-dataene\n",
    "with open('..//data/metar_ENVA,ENOL_2024-03-01.json', 'r') as file:\n",
    "    data = json.load(file)\n",
    "\n",
    "# Skriv ut dataene\n",
    "print(type(data))\n",
    "print(data)\n",
    "\n",
    "my_string = str(data())\n",
    "lines_from_string = my_string.splitlines()\n",
    "for line in lines_from_string:\n",
    "    print(line)\n",
    "\n",
    "\n"
   ]
  },
  {
   "cell_type": "code",
   "execution_count": null,
   "metadata": {},
   "outputs": [],
   "source": [
    "\n",
    "#Fra oppgave 2\n",
    "# Lagrer dataene i en CSV-fil\n",
    "#all_data.append(data)\n",
    "#df = pd.DataFrame(all_data)\n",
    "#df.to_csv(f'../data/data{icao_code}.csv')"
   ]
  },
  {
   "cell_type": "code",
   "execution_count": 15,
   "metadata": {},
   "outputs": [
    {
     "ename": "FileNotFoundError",
     "evalue": "[Errno 2] No such file or directory: '../data/ENEV,ENGM_2024-03-10.json'",
     "output_type": "error",
     "traceback": [
      "\u001b[1;31m---------------------------------------------------------------------------\u001b[0m",
      "\u001b[1;31mFileNotFoundError\u001b[0m                         Traceback (most recent call last)",
      "Cell \u001b[1;32mIn[15], line 7\u001b[0m\n\u001b[0;32m      4\u001b[0m \u001b[38;5;28;01mfrom\u001b[39;00m\u001b[38;5;250m \u001b[39m\u001b[38;5;21;01mpandas\u001b[39;00m\u001b[38;5;250m \u001b[39m\u001b[38;5;28;01mimport\u001b[39;00m json_normalize\n\u001b[0;32m      6\u001b[0m \u001b[38;5;66;03m# Åpne filen og last inn JSON-dataene\u001b[39;00m\n\u001b[1;32m----> 7\u001b[0m \u001b[38;5;28;01mwith\u001b[39;00m \u001b[38;5;28;43mopen\u001b[39;49m\u001b[43m(\u001b[49m\u001b[38;5;124;43m'\u001b[39;49m\u001b[38;5;124;43m../data/ENEV,ENGM_2024-03-10.json\u001b[39;49m\u001b[38;5;124;43m'\u001b[39;49m\u001b[43m,\u001b[49m\u001b[43m \u001b[49m\u001b[38;5;124;43m'\u001b[39;49m\u001b[38;5;124;43mr\u001b[39;49m\u001b[38;5;124;43m'\u001b[39;49m\u001b[43m)\u001b[49m \u001b[38;5;28;01mas\u001b[39;00m file:\n\u001b[0;32m      8\u001b[0m     data \u001b[38;5;241m=\u001b[39m json\u001b[38;5;241m.\u001b[39mload(file)\n\u001b[0;32m     10\u001b[0m wind_df_list \u001b[38;5;241m=\u001b[39m []\n",
      "File \u001b[1;32mc:\\Users\\hanna\\OneDrive\\Desktop\\Python\\TDT4114\\Prosjektgruppe55\\venv\\Lib\\site-packages\\IPython\\core\\interactiveshell.py:324\u001b[0m, in \u001b[0;36m_modified_open\u001b[1;34m(file, *args, **kwargs)\u001b[0m\n\u001b[0;32m    317\u001b[0m \u001b[38;5;28;01mif\u001b[39;00m file \u001b[38;5;129;01min\u001b[39;00m {\u001b[38;5;241m0\u001b[39m, \u001b[38;5;241m1\u001b[39m, \u001b[38;5;241m2\u001b[39m}:\n\u001b[0;32m    318\u001b[0m     \u001b[38;5;28;01mraise\u001b[39;00m \u001b[38;5;167;01mValueError\u001b[39;00m(\n\u001b[0;32m    319\u001b[0m         \u001b[38;5;124mf\u001b[39m\u001b[38;5;124m\"\u001b[39m\u001b[38;5;124mIPython won\u001b[39m\u001b[38;5;124m'\u001b[39m\u001b[38;5;124mt let you open fd=\u001b[39m\u001b[38;5;132;01m{\u001b[39;00mfile\u001b[38;5;132;01m}\u001b[39;00m\u001b[38;5;124m by default \u001b[39m\u001b[38;5;124m\"\u001b[39m\n\u001b[0;32m    320\u001b[0m         \u001b[38;5;124m\"\u001b[39m\u001b[38;5;124mas it is likely to crash IPython. If you know what you are doing, \u001b[39m\u001b[38;5;124m\"\u001b[39m\n\u001b[0;32m    321\u001b[0m         \u001b[38;5;124m\"\u001b[39m\u001b[38;5;124myou can use builtins\u001b[39m\u001b[38;5;124m'\u001b[39m\u001b[38;5;124m open.\u001b[39m\u001b[38;5;124m\"\u001b[39m\n\u001b[0;32m    322\u001b[0m     )\n\u001b[1;32m--> 324\u001b[0m \u001b[38;5;28;01mreturn\u001b[39;00m \u001b[43mio_open\u001b[49m\u001b[43m(\u001b[49m\u001b[43mfile\u001b[49m\u001b[43m,\u001b[49m\u001b[43m \u001b[49m\u001b[38;5;241;43m*\u001b[39;49m\u001b[43margs\u001b[49m\u001b[43m,\u001b[49m\u001b[43m \u001b[49m\u001b[38;5;241;43m*\u001b[39;49m\u001b[38;5;241;43m*\u001b[39;49m\u001b[43mkwargs\u001b[49m\u001b[43m)\u001b[49m\n",
      "\u001b[1;31mFileNotFoundError\u001b[0m: [Errno 2] No such file or directory: '../data/ENEV,ENGM_2024-03-10.json'"
     ]
    }
   ],
   "source": [
    "import json\n",
    "import numpy as np\n",
    "import pandas as pd\n",
    "from pandas import json_normalize\n",
    "\n",
    "# Åpne filen og last inn JSON-dataene\n",
    "with open('../data/ENEV,ENGM_2024-03-10.json', 'r') as file:\n",
    "    data = json.load(file)\n",
    "\n",
    "wind_df_list = []\n",
    "\n",
    "for key, value in data.items():\n",
    "    # Bruk pandas.json_normalize for å normalisere JSON-dataene\n",
    "    wind_df = json_normalize(data[key])\n",
    "\n",
    "    # Fjern eventuelle prefikser fra kolonnenavnene\n",
    "    wind_df.columns = wind_df.columns.str.replace('subjects.', '', regex=False)\n",
    "    \n",
    "    # Legg til en kolonne for grad\n",
    "    wind_df['grade'] = key\n",
    "    \n",
    "    # Legg til DataFrame til listen\n",
    "    wind_df_list.append(wind_df)\n",
    "\n",
    "# Kombiner alle DataFrames i listen til en enkelt DataFrame\n",
    "combined_wind_df = pd.concat(wind_df_list, ignore_index=True)\n",
    "\n",
    "# Skriv ut de første radene i den kombinerte DataFrame\n",
    "print(combined_wind_df.head())\n"
   ]
  },
  {
   "cell_type": "code",
   "execution_count": null,
   "metadata": {},
   "outputs": [],
   "source": [
    "def load_data(file_name):\n",
    "    try:        \n",
    "        # Load the JSON data\n",
    "        with open(file_name) as f:\n",
    "            data = json.load(f)\n",
    "        return data\n",
    "    except FileNotFoundError:\n",
    "        print(\"File not found!\")  \n",
    "        return None \n",
    "    \n",
    "data = load_data(\"../data/ENEV,ENGM_2024-03-10.json\")"
   ]
  },
  {
   "cell_type": "code",
   "execution_count": null,
   "metadata": {},
   "outputs": [
    {
     "name": "stdout",
     "output_type": "stream",
     "text": [
      "a    {'metar': 'ENEV 100020Z 19004KT 9999 BKN061 M0...\n",
      "b    {'metar': 'ENEV 100020Z 19004KT 9999 BKN061 M0...\n",
      "c    {'metar': 'ENEV 100020Z 19004KT 9999 BKN061 M0...\n",
      "d    {'metar': 'ENEV 100020Z 19004KT 9999 BKN061 M0...\n",
      "e    {'metar': 'ENEV 100020Z 19004KT 9999 BKN061 M0...\n",
      "f    {'metar': 'ENEV 100020Z 19004KT 9999 BKN061 M0...\n",
      "g    {'metar': 'ENEV 100020Z 19004KT 9999 BKN061 M0...\n",
      "h    {'metar': 'ENEV 100020Z 19004KT 9999 BKN061 M0...\n",
      "i    {'metar': 'ENEV 100020Z 19004KT 9999 BKN061 M0...\n",
      "dtype: object\n",
      "a    False\n",
      "b    False\n",
      "c    False\n",
      "d    False\n",
      "e    False\n",
      "f    False\n",
      "g    False\n",
      "h    False\n",
      "i    False\n",
      "dtype: bool\n",
      "a    {'metar': 'ENEV 100020Z 19004KT 9999 BKN061 M0...\n",
      "b    {'metar': 'ENEV 100020Z 19004KT 9999 BKN061 M0...\n",
      "c    {'metar': 'ENEV 100020Z 19004KT 9999 BKN061 M0...\n",
      "d    {'metar': 'ENEV 100020Z 19004KT 9999 BKN061 M0...\n",
      "e    {'metar': 'ENEV 100020Z 19004KT 9999 BKN061 M0...\n",
      "f    {'metar': 'ENEV 100020Z 19004KT 9999 BKN061 M0...\n",
      "g    {'metar': 'ENEV 100020Z 19004KT 9999 BKN061 M0...\n",
      "h    {'metar': 'ENEV 100020Z 19004KT 9999 BKN061 M0...\n",
      "i    {'metar': 'ENEV 100020Z 19004KT 9999 BKN061 M0...\n",
      "dtype: object\n"
     ]
    }
   ],
   "source": [
    "import pandas as pd\n",
    "\n",
    "index = ['a', 'b', 'c', 'd', 'e', 'f', 'g', 'h', 'i']\n",
    "my_series = pd.Series(str(data) , index=index)\n",
    "\n",
    "\n",
    "print(my_series)\n",
    "print(my_series.isna())\n",
    "print(my_series.fillna(0))"
   ]
  },
  {
   "cell_type": "code",
   "execution_count": 16,
   "metadata": {},
   "outputs": [
    {
     "name": "stdout",
     "output_type": "stream",
     "text": [
      "Wind Speeds: [15018 14018 14017 14018 14018 15019 15018 15015 15018 14015 15014 14012\n",
      " 14017 12017 12010 12009 12009 12008 12008 14013 14010 13009 12009 13010\n",
      " 14013 14014 13014 13015 11010 13015 13015 13014 14013 12012 12013 12015\n",
      " 13020 14021 14024 14024 15025 14020 14019 14017 13017 13017 13004 11008\n",
      " 15018 15019 15018 15016 13014 14015 12012 10012 11009 12012 13013 14015\n",
      " 14016 14011 13006 10010 15015 14010 14010 13008 14013 11010 14017 14010\n",
      " 16011 12013 12010 13008 12006 14009 10010 14017 13015  9003 15011]\n"
     ]
    }
   ],
   "source": [
    "\n",
    "# Hent METAR og TAF data\n",
    "metar_data = data.get(\"metar\", \"\")\n",
    "taf_data = data.get(\"taf\", \"\")\n",
    "\n",
    "# Eksempel på hvordan du kan hente spesifikk data fra METAR og TAF\n",
    "# Her antar vi at vi vil hente ut vindhastighet fra METAR-dataene\n",
    "\n",
    "# Funksjon for å hente ut vindhastighet fra METAR-strengen\n",
    "def extract_wind_speed(metar_str):\n",
    "    wind_speeds = []\n",
    "    for line in metar_str.split('\\n'):\n",
    "        if 'KT' in line:\n",
    "            parts = line.split()\n",
    "            for part in parts:\n",
    "                if part.endswith('KT'): # or part.endswith('KT=\\nENSB'):\n",
    "                    try:\n",
    "                        wind_speed = int(part[:-2])\n",
    "                        wind_speeds.append(wind_speed)\n",
    "                    except ValueError:\n",
    "                        continue\n",
    "    return wind_speeds\n",
    "\n",
    "# Hent vindhastigheter fra METAR-dataene\n",
    "wind_speeds = extract_wind_speed(metar_data)\n",
    "\n",
    "# Konverter til NumPy-array\n",
    "wind_speeds_np = np.array(wind_speeds)\n",
    "\n",
    "# Eksempel på rensing av data: fjern NaN-verdier\n",
    "wind_speeds_clean = wind_speeds_np[~np.isnan(wind_speeds_np)]\n",
    "\n",
    "# Skriv ut rensede data\n",
    "print(\"Wind Speeds:\", wind_speeds_clean)\n",
    "\n",
    "# denne koden fungerer med 'FT', 'Z' og 'KT'"
   ]
  },
  {
   "cell_type": "markdown",
   "metadata": {},
   "source": []
  },
  {
   "cell_type": "code",
   "execution_count": 39,
   "metadata": {},
   "outputs": [
    {
     "name": "stdout",
     "output_type": "stream",
     "text": [
      "Data for ENGM,ENOL den 2024-03-01 er lagret under data-mappen i ENGM,ENOL_2024-03-01.json\n"
     ]
    }
   ],
   "source": [
    "#Oppgave 2\n",
    "\n",
    "import json\n",
    "import sys, os\n",
    "\n",
    "sys.path.insert(0, '../src/')\n",
    "\n",
    "import metar_writer as mw\n",
    "import taf_writer as tw\n",
    "\n",
    "# Parametere for metar\n",
    "icao_codes = [\"ENGM,ENOL\"]\n",
    "dates = [\"2024-03-01\"]\n",
    "for icao_code in icao_codes:\n",
    "    for date in dates:\n",
    "        # Henter informasjon for gitte parametere\n",
    "        metar = mw.get_metar(icao_code, date)\n",
    "        taf = tw.get_taf(icao_code, date)\n",
    "\n",
    "         # Splitt METAR-dataene ved linjeskift\n",
    "        metar_lines = metar.split('\\n')\n",
    "        taf_lines = taf.split('\\n')\n",
    "\n",
    "        # Samler dataene i en JSON-fil\n",
    "        data_metar = {\n",
    "            \"metar\": metar_lines\n",
    "        }\n",
    "        data_taf = {\n",
    "            \"taf\": taf_lines\n",
    "        }\n",
    "\n",
    "        # Samler dataene i en JSON-fil\n",
    "#data_metar = {\n",
    "    #\"metar\": metar\n",
    "  #  }\n",
    "#data_taf = {\n",
    "    #\"taf\": taf\n",
    "  #  }\n",
    "\n",
    "file_name = f\"{icao_code}_{date}.json\"\n",
    "\n",
    "# Lagrer dataene i en JSON-file\n",
    "with open(f\"../data/metar_{file_name}\", \"w\") as json_file:\n",
    "        json.dump(data_metar, json_file)\n",
    "\n",
    "with open(f\"../data/taf_{file_name}\", \"w\") as json_file:\n",
    "        json.dump(data_taf, json_file)\n",
    "\n",
    "# Skriver ut en bekreftelse    \n",
    "print(f\"Data for {icao_code} den {date} er lagret under data-mappen i {file_name}\")    \n"
   ]
  },
  {
   "cell_type": "code",
   "execution_count": 58,
   "metadata": {},
   "outputs": [
    {
     "name": "stdout",
     "output_type": "stream",
     "text": [
      "<class 'str'>\n",
      "<class 'dict'>\n",
      "<class 'list'>\n"
     ]
    }
   ],
   "source": [
    "print(type(metar))\n",
    "print(type(data_metar))\n",
    "print(type(metar_lines))\n"
   ]
  },
  {
   "cell_type": "code",
   "execution_count": 56,
   "metadata": {},
   "outputs": [
    {
     "name": "stdout",
     "output_type": "stream",
     "text": [
      "99\n",
      "                                                    Sted  Tid  vind  sikt  \\\n",
      "(ENGM 010020Z 18009KT 8000 -RA OVC002 03/02 Q10...   NaN  NaN   NaN   NaN   \n",
      "(ENGM 010050Z 17009KT 8000 -DZ OVC003 03/02 Q10...   NaN  NaN   NaN   NaN   \n",
      "(ENGM 010120Z 17010KT 8000 -RADZ OVC003 03/02 Q...   NaN  NaN   NaN   NaN   \n",
      "(ENGM 010150Z 16008KT 9999 -RA OVC002 03/02 Q10...   NaN  NaN   NaN   NaN   \n",
      "(ENGM 010220Z 16006KT 7000 -RA OVC002 03/02 Q10...   NaN  NaN   NaN   NaN   \n",
      "...                                                  ...  ...   ...   ...   \n",
      "(ENOL 012250Z 14017KT CAVOK 07/M01 Q1003=,)          NaN  NaN   NaN   NaN   \n",
      "(ENOL 012320Z 13017KT CAVOK 07/M01 Q1004=,)          NaN  NaN   NaN   NaN   \n",
      "(ENOL 012350Z 13017KT CAVOK 07/M01 Q1004=,)          NaN  NaN   NaN   NaN   \n",
      "(,)                                                  NaN  NaN   NaN   NaN   \n",
      "(,)                                                  NaN  NaN   NaN   NaN   \n",
      "\n",
      "                                                    nedbør  skyer  temp  trykk  \n",
      "(ENGM 010020Z 18009KT 8000 -RA OVC002 03/02 Q10...     NaN    NaN   NaN    NaN  \n",
      "(ENGM 010050Z 17009KT 8000 -DZ OVC003 03/02 Q10...     NaN    NaN   NaN    NaN  \n",
      "(ENGM 010120Z 17010KT 8000 -RADZ OVC003 03/02 Q...     NaN    NaN   NaN    NaN  \n",
      "(ENGM 010150Z 16008KT 9999 -RA OVC002 03/02 Q10...     NaN    NaN   NaN    NaN  \n",
      "(ENGM 010220Z 16006KT 7000 -RA OVC002 03/02 Q10...     NaN    NaN   NaN    NaN  \n",
      "...                                                    ...    ...   ...    ...  \n",
      "(ENOL 012250Z 14017KT CAVOK 07/M01 Q1003=,)            NaN    NaN   NaN    NaN  \n",
      "(ENOL 012320Z 13017KT CAVOK 07/M01 Q1004=,)            NaN    NaN   NaN    NaN  \n",
      "(ENOL 012350Z 13017KT CAVOK 07/M01 Q1004=,)            NaN    NaN   NaN    NaN  \n",
      "(,)                                                    NaN    NaN   NaN    NaN  \n",
      "(,)                                                    NaN    NaN   NaN    NaN  \n",
      "\n",
      "[99 rows x 8 columns]\n",
      "                                               metar\n",
      "0  ENGM 010020Z 18009KT 8000 -RA OVC002 03/02 Q1004=\n",
      "1  ENGM 010050Z 17009KT 8000 -DZ OVC003 03/02 Q1004=\n",
      "2  ENGM 010120Z 17010KT 8000 -RADZ OVC003 03/02 Q...\n",
      "3  ENGM 010150Z 16008KT 9999 -RA OVC002 03/02 Q1004=\n",
      "4  ENGM 010220Z 16006KT 7000 -RA OVC002 03/02 Q1004=\n",
      "                                                  taf\n",
      "5   ENGM 012300Z 0200/0224 10005KT 6000 BR OVC003 ...\n",
      "6   ENOL 010500Z 0106/0206 14015KT CAVOK TEMPO 011...\n",
      "7   ENOL 011100Z 0112/0212 13012KT CAVOK TEMPO 011...\n",
      "8   ENOL 011700Z 0118/0218 13014KT CAVOK TEMPO 011...\n",
      "9               ENOL 012300Z 0200/0224 13018KT CAVOK=\n",
      "10                                                   \n",
      "11                                                   \n"
     ]
    }
   ],
   "source": [
    "import json\n",
    "import numpy as np\n",
    "import pandas as pd\n",
    "from pandas import json_normalize\n",
    "import matplotlib.pyplot as plt \n",
    "import random\n",
    "\n",
    "\n",
    "\n",
    "df_m = pd.read_json('../data/metar_ENGM,ENOL_2024-03-01.json')\n",
    "df_t = pd.read_json('../data/taf_ENGM,ENOL_2024-03-01.json')\n",
    "print(len(df_m))\n",
    "df = pd.DataFrame((df_m),index=df_m, columns=[\"Sted\",\"Tid\",\"vind\",\"sikt\",\"nedbør\",\"skyer\",\"temp\",\"trykk\"])\n",
    "print(df)\n",
    "print(df_m[:5])\n",
    "print(df_t[5:])\n"
   ]
  }
 ],
 "metadata": {
  "kernelspec": {
   "display_name": "venv",
   "language": "python",
   "name": "python3"
  },
  "language_info": {
   "codemirror_mode": {
    "name": "ipython",
    "version": 3
   },
   "file_extension": ".py",
   "mimetype": "text/x-python",
   "name": "python",
   "nbconvert_exporter": "python",
   "pygments_lexer": "ipython3",
   "version": "3.13.1"
  }
 },
 "nbformat": 4,
 "nbformat_minor": 2
}
