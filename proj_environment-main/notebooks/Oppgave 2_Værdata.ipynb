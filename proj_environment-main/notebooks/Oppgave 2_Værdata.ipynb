{
 "cells": [
  {
   "cell_type": "code",
   "execution_count": 1,
   "metadata": {},
   "outputs": [
    {
     "name": "stdout",
     "output_type": "stream",
     "text": [
      "Vær i Trondheim nå:\n",
      "- Temperatur: 8.7°C\n",
      "- Luftfuktighet: 69.4%\n",
      "- Vindhastighet: 10.1 m/s\n"
     ]
    }
   ],
   "source": [
    "import requests\n",
    "\n",
    "# API-endepunkt og parametere for Trondheim\n",
    "url = \"https://api.met.no/weatherapi/locationforecast/2.0/compact\"\n",
    "params = {\"lat\": 63.43, \"lon\": 10.40}  # Koordinater for Trondheim\n",
    "headers = {\"User-Agent\": \"MyEnvDataApp\"}\n",
    "\n",
    "# Send forespørsel til Yr API\n",
    "response = requests.get(url, params=params, headers=headers)\n",
    "\n",
    "# Konverter svaret til JSON\n",
    "data = response.json()\n",
    "\n",
    "weather_data = data[\"properties\"][\"timeseries\"][0][\"data\"][\"instant\"][\"details\"]\n",
    "temperature = weather_data[\"air_temperature\"]\n",
    "humidity = weather_data[\"relative_humidity\"]\n",
    "wind_speed = weather_data[\"wind_speed\"]\n",
    "\n",
    "print(f\"Vær i Trondheim nå:\")\n",
    "print(f\"- Temperatur: {temperature}°C\")\n",
    "print(f\"- Luftfuktighet: {humidity}%\")\n",
    "print(f\"- Vindhastighet: {wind_speed} m/s\")\n",
    "\n"
   ]
  },
  {
   "cell_type": "code",
   "execution_count": null,
   "metadata": {},
   "outputs": [],
   "source": []
  }
 ],
 "metadata": {
  "kernelspec": {
   "display_name": "Python 3",
   "language": "python",
   "name": "python3"
  },
  "language_info": {
   "codemirror_mode": {
    "name": "ipython",
    "version": 3
   },
   "file_extension": ".py",
   "mimetype": "text/x-python",
   "name": "python",
   "nbconvert_exporter": "python",
   "pygments_lexer": "ipython3",
   "version": "3.13.1"
  }
 },
 "nbformat": 4,
 "nbformat_minor": 2
}
