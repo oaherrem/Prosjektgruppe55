{
 "cells": [
  {
   "cell_type": "code",
   "execution_count": null,
   "metadata": {},
   "outputs": [],
   "source": [
    "import requests\n",
    "\n",
    "# API-endepunkt og parametere for Trondheim\n",
    "url = \"https://api.met.no/weatherapi/locationforecast/2.0/compact\"\n",
    "params = {\"lat\": 63.43, \"lon\": 10.40}  # Koordinater for Trondheim\n",
    "headers = {\"User-Agent\": \"MyEnvDataApp\"}\n",
    "\n",
    "# Send forespørsel til Yr API\n",
    "response = requests.get(url, params=params, headers=headers)\n",
    "\n",
    "# Konverter svaret til JSON\n",
    "data = response.json()\n",
    "\n",
    "weather_data = data[\"properties\"][\"timeseries\"][0][\"data\"][\"instant\"][\"details\"]\n",
    "temperature = weather_data[\"air_temperature\"]\n",
    "humidity = weather_data[\"relative_humidity\"]\n",
    "wind_speed = weather_data[\"wind_speed\"]\n",
    "\n",
    "print(f\"Vær i Trondheim nå:\")\n",
    "print(f\"- Temperatur: {temperature}°C\")\n",
    "print(f\"- Luftfuktighet: {humidity}%\")\n",
    "print(f\"- Vindhastighet: {wind_speed} m/s\")\n",
    "\n"
   ]
  }
 ],
 "metadata": {
  "language_info": {
   "name": "python"
  }
 },
 "nbformat": 4,
 "nbformat_minor": 2
}
