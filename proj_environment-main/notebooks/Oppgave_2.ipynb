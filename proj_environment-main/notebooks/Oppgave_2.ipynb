{
 "cells": [
  {
   "cell_type": "code",
   "execution_count": 3,
   "metadata": {},
   "outputs": [
    {
     "name": "stdout",
     "output_type": "stream",
     "text": [
      "Data for ENVA,ENOL den 2024-03-01 er lagret under data-mappen i ENVA,ENOL_2024-03-01.json\n"
     ]
    }
   ],
   "source": [
    "import json\n",
    "import sys\n",
    "\n",
    "sys.path.insert(0, '../src/')\n",
    "\n",
    "import metar_writer as mw\n",
    "import taf_writer as tw\n",
    "\n",
    "# Parametere for metar\n",
    "icao_codes = [\"ENVA,ENOL\"]\n",
    "dates = [\"2024-03-01\"]\n",
    "for icao_code in icao_codes:\n",
    "    for date in dates:\n",
    "        # Henter informasjon for gitte parametere\n",
    "        metar = mw.get_metar(icao_code, date)\n",
    "        taf = tw.get_taf(icao_code, date)\n",
    "\n",
    "        # Samler dataene i en JSON-fil\n",
    "data_metar = {\n",
    "    \"metar\": metar\n",
    "    }\n",
    "data_taf = {\n",
    "    \"taf\": taf\n",
    "    }\n",
    "\n",
    "file_name = f\"{icao_code}_{date}.json\"\n",
    "\n",
    "# Lagrer dataene i en JSON-file\n",
    "with open(f\"../data/metar_{file_name}\", \"w\") as json_file:\n",
    "        json.dump(data_metar, json_file)\n",
    "\n",
    "with open(f\"../data/taf_{file_name}\", \"w\") as json_file:\n",
    "        json.dump(data_taf, json_file)\n",
    "\n",
    "# Skriver ut en bekreftelse    \n",
    "print(f\"Data for {icao_code} den {date} er lagret under data-mappen i {file_name}\")    \n"
   ]
  },
  {
   "cell_type": "code",
   "execution_count": null,
   "metadata": {},
   "outputs": [
    {
     "name": "stdout",
     "output_type": "stream",
     "text": [
      "Data for ENBO den 2024-03-01 er lagret under data-mappen i ENBO_2024-03-01.json\n",
      "{'metar': ['ENBO 010020Z 15014KT CAVOK 07/M00 Q0994=', 'ENBO 010050Z 14013KT CAVOK 08/M01 Q0994=', 'ENBO 010120Z 14014KT CAVOK 08/M01 Q0995=', 'ENBO 010220Z 15012KT CAVOK 07/M01 Q0995=', 'ENBO 010250Z 17014KT CAVOK 08/M01 Q0995=', 'ENBO 010320Z 18018KT CAVOK 07/M01 Q0995=', 'ENBO 010350Z 19019KT CAVOK 07/M00 Q0995=', 'ENBO 010420Z 19020KT CAVOK 07/M01 Q0996=', 'ENBO 010450Z 19018KT CAVOK 07/M01 Q0996=', 'ENBO 010520Z 19018KT CAVOK 07/M01 Q0997=', 'ENBO 010550Z 19017KT CAVOK 08/M01 Q0997=', 'ENBO 010620Z 19016KT CAVOK 07/M01 Q0998 NOSIG=', 'ENBO 010650Z 19014KT CAVOK 07/M01 Q0998 NOSIG=', 'ENBO 010720Z 19013KT CAVOK 07/M01 Q0999 NOSIG=', 'ENBO 010750Z 18010KT CAVOK 07/M01 Q0999 NOSIG=', 'ENBO 010820Z 18010KT CAVOK 08/M03 Q0999 NOSIG=', 'ENBO 010850Z 17010KT CAVOK 08/M03 Q1000 NOSIG=', 'ENBO 010920Z 16010KT CAVOK 08/M02 Q1000 NOSIG=', 'ENBO 010950Z 14007KT CAVOK 08/M03 Q1001 NOSIG=', 'ENBO 011020Z 15007KT CAVOK 08/M01 Q1001 NOSIG=', 'ENBO 011050Z 15004KT 110V180 CAVOK 09/M01 Q1001 NOSIG=', 'ENBO 011120Z 11008KT CAVOK 08/M02 Q1002 NOSIG=', 'ENBO 011150Z 11008KT CAVOK 08/M01 Q1002 NOSIG=', 'ENBO 011220Z 13006KT CAVOK 09/M01 Q1002 NOSIG=', 'ENBO 011250Z 15007KT CAVOK 08/M01 Q1003 NOSIG=', 'ENBO 011320Z 11005KT CAVOK 08/M02 Q1003 NOSIG=', 'ENBO 011350Z 11007KT CAVOK 07/M02 Q1003 NOSIG=', 'ENBO 011420Z 12006KT CAVOK 08/M02 Q1003 NOSIG=', 'ENBO 011450Z 11007KT CAVOK 07/M01 Q1004 NOSIG=', 'ENBO 011520Z 11010KT CAVOK 07/M01 Q1004 NOSIG=', 'ENBO 011550Z 10008KT CAVOK 06/M01 Q1004 NOSIG=', 'ENBO 011620Z 10010KT CAVOK 06/M01 Q1004 NOSIG=', 'ENBO 011650Z 11010KT CAVOK 06/M01 Q1004 NOSIG=', 'ENBO 011720Z 10010KT CAVOK 05/M01 Q1004 NOSIG=', 'ENBO 011750Z 09011KT CAVOK 05/M01 Q1004 NOSIG=', 'ENBO 011820Z 10013KT CAVOK 05/M00 Q1004 NOSIG=', 'ENBO 011850Z 10012KT CAVOK 06/M00 Q1004 NOSIG=', 'ENBO 011920Z 09011KT CAVOK 06/00 Q1004 NOSIG=', 'ENBO 011950Z 10011KT CAVOK 06/00 Q1005 NOSIG=', 'ENBO 012020Z 10012KT CAVOK 06/01 Q1005 NOSIG=', 'ENBO 012050Z 09013KT CAVOK 06/01 Q1005 NOSIG=', 'ENBO 012120Z 10012KT CAVOK 06/00 Q1005 NOSIG=', 'ENBO 012150Z 09013KT CAVOK 06/01 Q1005 NOSIG=', 'ENBO 012220Z 09012KT 9999 FEW050 BKN073 06/01 Q1005=', 'ENBO 012250Z 09012KT 9999 SCT051 BKN071 06/01 Q1006=', 'ENBO 012320Z 09013KT 9999 BKN050 OVC069 06/01 Q1006=', 'ENBO 012350Z 09011KT 9999 BKN051 OVC073 06/01 Q1006=', '', '']}\n"
     ]
    }
   ],
   "source": [
    "#Oppgave 2\n",
    " \n",
    "import json\n",
    "import sys\n",
    " \n",
    "sys.path.insert(0, '../src/')\n",
    " \n",
    "import metar_writer as mw\n",
    "import taf_writer as tw\n",
    " \n",
    "# Parametere for metar\n",
    "icao_codes = [\"ENBO,ENOL\"]\n",
    "dates = [\"2024-03-01\"]\n",
    "all_data = [] # mulighet for å lagre som csv fil\n",
    "for icao_code in icao_codes:\n",
    "    for date in dates:\n",
    "        # Henter informasjon for gitte parametere\n",
    "        metar = mw.get_metar(icao_code, date)\n",
    "        taf = tw.get_taf(icao_code, date)\n",
    " \n",
    "         # Splitt METAR-dataene ved linjeskift\n",
    "        metar_lines = metar.split('\\n')\n",
    "        taf_lines = taf.split('\\n')\n",
    " \n",
    "        # Samler dataene i en JSON-fil\n",
    "        data_metar = {\n",
    "            \"metar\": metar_lines\n",
    "        }\n",
    "        data_taf = {\n",
    "            \"taf\": taf_lines\n",
    "        }\n",
    "all_data.append(data_metar) #lagt ved for å ha mulighet til å samle data som csv fil\n",
    " \n",
    " \n",
    "file_name = f\"{icao_code}_{date}.json\"\n",
    " \n",
    "# Lagrer dataene i en JSON-file\n",
    "with open(f\"../data/metar_{file_name}\", \"w\") as json_file:\n",
    "        json.dump(data_metar, json_file)\n",
    " \n",
    "with open(f\"../data/taf_{file_name}\", \"w\") as json_file:\n",
    "        json.dump(data_taf, json_file)\n",
    " \n",
    "# Skriver ut en bekreftelse    \n",
    "print(f\"Data for {icao_code} den {date} er lagret under data-mappen i {file_name}\")    \n",
    " \n",
    "#df = pd.DataFrame(all_data)\n",
    "#df.to_csv('../data/datahanna.csv')\n",
    "print(data_metar)"
   ]
  }
 ],
 "metadata": {
  "kernelspec": {
   "display_name": "venv",
   "language": "python",
   "name": "python3"
  },
  "language_info": {
   "codemirror_mode": {
    "name": "ipython",
    "version": 3
   },
   "file_extension": ".py",
   "mimetype": "text/x-python",
   "name": "python",
   "nbconvert_exporter": "python",
   "pygments_lexer": "ipython3",
   "version": "3.13.1"
  }
 },
 "nbformat": 4,
 "nbformat_minor": 2
}
