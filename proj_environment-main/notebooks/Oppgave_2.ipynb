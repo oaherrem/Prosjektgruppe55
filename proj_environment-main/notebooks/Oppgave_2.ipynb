{
 "cells": [
  {
   "cell_type": "code",
   "execution_count": 4,
   "metadata": {},
   "outputs": [
    {
     "name": "stdout",
     "output_type": "stream",
     "text": [
      "c:\\Users\\Olehe\\OneDrive\\Dokumenter\\2. Term\\TDT4114\\proj_environment-main_gruppe_55\\Prosjektgruppe55\\proj_environment-main\\notebooks\n",
      "Data for ENBO,ENOL den from 2024-01-01 to 2025-01-01 er lagret under data-mappen i ENBO,ENOL_from 2024-01-01 to 2025-01-01.json\n",
      "{'metar': ['400 Bad Request', 'The \\'date\\' parameter (\"from 2024-01-01 to 2025-01-01\") to Metno::WeatherAPI::Controller::Product::try {...}  did not pass regex check', '']}\n"
     ]
    }
   ],
   "source": [
    "#Oppgave 2\n",
    " \n",
    "import json\n",
    "import sys\n",
    " \n",
    "sys.path.insert(0, '../src/')\n",
    " \n",
    "import metar_writer as mw\n",
    "import taf_writer as tw\n",
    " \n",
    "# Parametere for metar\n",
    "icao_codes = [\"ENBO\",\"ENOL\"]\n",
    "dates = [from \"2024-01-01\" to \"2025-01-01\"]\n",
    "all_data = [] # mulighet for å lagre som csv fil\n",
    "for icao_code in icao_codes:\n",
    "    for date in dates:\n",
    "        # Henter informasjon for gitte parametere\n",
    "        metar = mw.get_metar(icao_code, date)\n",
    "        taf = tw.get_taf(icao_code, date)\n",
    " \n",
    "         # Splitt METAR-dataene ved linjeskift\n",
    "        metar_lines = metar.split('\\n')\n",
    "        taf_lines = taf.split('\\n')\n",
    " \n",
    "        # Samler dataene i en JSON-fil\n",
    "        data_metar = {\n",
    "            \"metar\": metar_lines\n",
    "        }\n",
    "        data_taf = {\n",
    "            \"taf\": taf_lines\n",
    "        }\n",
    "all_data.append(data_metar) #lagt ved for å ha mulighet til å samle data som csv fil\n",
    " \n",
    " \n",
    "file_name = f\"{icao_code}_{date}.json\"\n",
    " \n",
    "# Lagrer dataene i en JSON-file\n",
    "with open(f\"../data/metar_{file_name}\", \"w\") as json_file:\n",
    "        json.dump(data_metar, json_file)\n",
    " \n",
    "with open(f\"../data/taf_{file_name}\", \"w\") as json_file:\n",
    "        json.dump(data_taf, json_file)\n",
    " \n",
    "# Skriver ut en bekreftelse    \n",
    "print(f\"Data for {icao_code} den {date} er lagret under data-mappen i {file_name}\")    \n",
    " \n",
    "#df = pd.DataFrame(all_data)\n",
    "#df.to_csv('../data/datahanna.csv')\n",
    "print(data_metar)"
   ]
  },
  {
   "cell_type": "code",
   "execution_count": 11,
   "metadata": {},
   "outputs": [
    {
     "name": "stdout",
     "output_type": "stream",
     "text": [
      "c:\\Users\\Olehe\\OneDrive\\Dokumenter\\2. Term\\TDT4114\\proj_environment-main_gruppe_55\\Prosjektgruppe55\\proj_environment-main\\notebooks\n",
      "c:\\Users\\Olehe\\OneDrive\\Dokumenter\\2. Term\\TDT4114\\proj_environment-main_gruppe_55\\Prosjektgruppe55\\proj_environment-main\\notebooks\n",
      "Alle dataene for ENBO er lagret i ../data/ENBO_metar_data.json\n",
      "c:\\Users\\Olehe\\OneDrive\\Dokumenter\\2. Term\\TDT4114\\proj_environment-main_gruppe_55\\Prosjektgruppe55\\proj_environment-main\\notebooks\n",
      "c:\\Users\\Olehe\\OneDrive\\Dokumenter\\2. Term\\TDT4114\\proj_environment-main_gruppe_55\\Prosjektgruppe55\\proj_environment-main\\notebooks\n",
      "Alle dataene for ENOL er lagret i ../data/ENOL_metar_data.json\n"
     ]
    }
   ],
   "source": [
    "import json\n",
    "import sys\n",
    "import time\n",
    "from datetime import datetime, timedelta\n",
    "\n",
    "sys.path.insert(0, '../src/')\n",
    "\n",
    "import metar_writer as mw\n",
    "\n",
    "# Parametere for METAR\n",
    "icao_codes = [\"ENBO\", \"ENOL\"]\n",
    "start_date = datetime.strptime(\"2024-01-01\", \"%Y-%m-%d\")\n",
    "end_date = datetime.strptime(\"2024-01-03\", \"%Y-%m-%d\")\n",
    "\n",
    "# Generer en liste over datoer\n",
    "dates = [(start_date + timedelta(days=i)).strftime(\"%Y-%m-%d\") for i in range((end_date - start_date).days)]\n",
    "\n",
    "for icao_code in icao_codes:\n",
    "    all_data = []  # Liste for å samle alle dataene for én ICAO-kode\n",
    "\n",
    "    for date in dates:\n",
    "        try:\n",
    "            # Henter informasjon for gitte parametere\n",
    "            metar = mw.get_metar(icao_code, date)\n",
    "\n",
    "            # Splitt METAR-dataene ved linjeskift og fjerner eventuelle tomme linjer\n",
    "            metar_lines = [line for line in metar.split('\\n') if line.strip ()]\n",
    "\n",
    "            # Samler dataene i en JSON-struktur\n",
    "            data_metar = {\n",
    "                \"metar\": metar_lines\n",
    "            }\n",
    "            all_data.append(data_metar)\n",
    "\n",
    "            # Legg inn en forsinkelse for å unngå overbelastning av API-en\n",
    "            time.sleep(1)  # 1 sekund forsinkelse mellom forespørsler\n",
    "\n",
    "        except Exception as e:\n",
    "            print(f\"Feil ved henting av data for {icao_code} på {date}: {e}\")\n",
    "\n",
    "    # Lagrer alle dataene for denne ICAO-koden i én JSON-fil\n",
    "    output_file = f\"../data/{icao_code}_metar_data.json\"\n",
    "    with open(output_file, \"w\") as json_file:\n",
    "        json.dump(all_data, json_file, indent=4)\n",
    "\n",
    "    print(f\"Alle dataene for {icao_code} er lagret i {output_file}\")"
   ]
  }
 ],
 "metadata": {
  "kernelspec": {
   "display_name": "venv",
   "language": "python",
   "name": "python3"
  },
  "language_info": {
   "codemirror_mode": {
    "name": "ipython",
    "version": 3
   },
   "file_extension": ".py",
   "mimetype": "text/x-python",
   "name": "python",
   "nbconvert_exporter": "python",
   "pygments_lexer": "ipython3",
   "version": "3.13.1"
  }
 },
 "nbformat": 4,
 "nbformat_minor": 2
}
