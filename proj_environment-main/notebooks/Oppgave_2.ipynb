{
 "cells": [
  {
   "cell_type": "code",
   "execution_count": 28,
   "metadata": {},
   "outputs": [
    {
     "name": "stdout",
     "output_type": "stream",
     "text": [
      "Data for ENVA,ENOL den 2024-03-01 er lagret under data-mappen i ENVA,ENOL_2024-03-01.json\n"
     ]
    }
   ],
   "source": [
    "import json\n",
    "import sys, os\n",
    "\n",
    "sys.path.insert(0, '../src/')\n",
    "\n",
    "import metar_writer as mw\n",
    "import taf_writer as tw\n",
    "\n",
    "# Parametere for metar\n",
    "icao_codes = [\"ENVA,ENOL\"]\n",
    "dates = [\"2024-03-01\"]\n",
    "for icao_code in icao_codes:\n",
    "    for date in dates:\n",
    "        # Henter informasjon for gitte parametere\n",
    "        metar = mw.get_metar(icao_code, date)\n",
    "        taf = tw.get_taf(icao_code, date)\n",
    "\n",
    "        # Samler dataene i en JSON-fil\n",
    "data_metar = {\n",
    "    \"metar\": metar\n",
    "    }\n",
    "data_taf = {\n",
    "    \"taf\": taf\n",
    "    }\n",
    "\n",
    "file_name = f\"{icao_code}_{date}.json\"\n",
    "\n",
    "# Lagrer dataene i en JSON-file\n",
    "with open(f\"../data/metar_{file_name}\", \"w\") as json_file:\n",
    "        json.dump(data_metar, json_file)\n",
    "\n",
    "with open(f\"../data/taf_{file_name}\", \"w\") as json_file:\n",
    "        json.dump(data_taf, json_file)\n",
    "\n",
    "# Skriver ut en bekreftelse    \n",
    "print(f\"Data for {icao_code} den {date} er lagret under data-mappen i {file_name}\")    \n"
   ]
  }
 ],
 "metadata": {
  "kernelspec": {
   "display_name": "venv",
   "language": "python",
   "name": "python3"
  },
  "language_info": {
   "codemirror_mode": {
    "name": "ipython",
    "version": 3
   },
   "file_extension": ".py",
   "mimetype": "text/x-python",
   "name": "python",
   "nbconvert_exporter": "python",
   "pygments_lexer": "ipython3",
   "version": "3.13.1"
  }
 },
 "nbformat": 4,
 "nbformat_minor": 2
}
