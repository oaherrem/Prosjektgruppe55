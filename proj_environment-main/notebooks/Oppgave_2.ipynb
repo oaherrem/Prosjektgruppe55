{
 "cells": [
  {
   "cell_type": "code",
   "execution_count": 1,
   "metadata": {},
   "outputs": [
    {
     "name": "stdout",
     "output_type": "stream",
     "text": [
      "Data for ENBO,ENOL den 2024-03-01 er lagret under data-mappen i ENBO,ENOL_2024-03-01.json\n",
      "{'metar': ['<html>\\r', '<head><title>403 Forbidden</title></head>\\r', '<body>\\r', '<center><h1>403 Forbidden</h1></center>\\r', '<hr><center>nginx/1.18.0 (Ubuntu)</center>\\r', '</body>\\r', '</html>\\r', '']}\n"
     ]
    }
   ],
   "source": [
    "#Oppgave 2\n",
    " \n",
    "import json\n",
    "import sys\n",
    " \n",
    "sys.path.insert(0, '../src/')\n",
    " \n",
    "import metar_writer as mw\n",
    "import taf_writer as tw\n",
    " \n",
    "# Parametere for metar\n",
    "icao_codes = [\"ENBO,ENOL\"]\n",
    "dates = [\"2024-03-01\"]\n",
    "all_data = [] # mulighet for å lagre som csv fil\n",
    "for icao_code in icao_codes:\n",
    "    for date in dates:\n",
    "        # Henter informasjon for gitte parametere\n",
    "        metar = mw.get_metar(icao_code, date)\n",
    "        taf = tw.get_taf(icao_code, date)\n",
    " \n",
    "         # Splitt METAR-dataene ved linjeskift\n",
    "        metar_lines = metar.split('\\n')\n",
    "        taf_lines = taf.split('\\n')\n",
    " \n",
    "        # Samler dataene i en JSON-fil\n",
    "        data_metar = {\n",
    "            \"metar\": metar_lines\n",
    "        }\n",
    "        data_taf = {\n",
    "            \"taf\": taf_lines\n",
    "        }\n",
    "all_data.append(data_metar) #lagt ved for å ha mulighet til å samle data som csv fil\n",
    " \n",
    " \n",
    "file_name = f\"{icao_code}_{date}.json\"\n",
    " \n",
    "# Lagrer dataene i en JSON-file\n",
    "with open(f\"../data/metar_{file_name}\", \"w\") as json_file:\n",
    "        json.dump(data_metar, json_file)\n",
    " \n",
    "with open(f\"../data/taf_{file_name}\", \"w\") as json_file:\n",
    "        json.dump(data_taf, json_file)\n",
    " \n",
    "# Skriver ut en bekreftelse    \n",
    "print(f\"Data for {icao_code} den {date} er lagret under data-mappen i {file_name}\")    \n",
    " \n",
    "#df = pd.DataFrame(all_data)\n",
    "#df.to_csv('../data/datahanna.csv')\n",
    "print(data_metar)"
   ]
  }
 ],
 "metadata": {
  "kernelspec": {
   "display_name": "venv",
   "language": "python",
   "name": "python3"
  },
  "language_info": {
   "codemirror_mode": {
    "name": "ipython",
    "version": 3
   },
   "file_extension": ".py",
   "mimetype": "text/x-python",
   "name": "python",
   "nbconvert_exporter": "python",
   "pygments_lexer": "ipython3",
   "version": "3.13.1"
  }
 },
 "nbformat": 4,
 "nbformat_minor": 2
}
