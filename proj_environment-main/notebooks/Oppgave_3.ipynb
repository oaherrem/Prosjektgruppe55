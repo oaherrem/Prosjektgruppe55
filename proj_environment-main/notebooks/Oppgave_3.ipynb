{
 "cells": [
  {
   "cell_type": "code",
   "execution_count": 21,
   "metadata": {},
   "outputs": [
    {
     "name": "stdout",
     "output_type": "stream",
     "text": [
      "filene ../data/metar_ENVA,ENOL_2024-03-01.json er lest\n"
     ]
    }
   ],
   "source": [
    "import sys, os\n",
    "\n",
    "sys.path.insert(0, '../src/')\n",
    "\n",
    "import metar_reader as mr\n",
    "import taf_reader as tr\n",
    "\n",
    "file_path = '../data/metar_ENVA,ENOL_2024-03-01.json'\n",
    "if not os.path.exists(file_path):\n",
    "    print(f\"Filen {file_path} finnes ikke\")\n",
    "else:\n",
    "    this_metar_file = mr.read_metar(file_path)\n",
    "    this_taf_file = tr.read_taf(file_path)\n",
    "    print(f\"filene {file_path} er lest\")\n",
    "#print(this_metar_file)\n",
    "#print(this_taf_file)"
   ]
  }
 ],
 "metadata": {
  "kernelspec": {
   "display_name": "venv",
   "language": "python",
   "name": "python3"
  },
  "language_info": {
   "codemirror_mode": {
    "name": "ipython",
    "version": 3
   },
   "file_extension": ".py",
   "mimetype": "text/x-python",
   "name": "python",
   "nbconvert_exporter": "python",
   "pygments_lexer": "ipython3",
   "version": "3.13.1"
  }
 },
 "nbformat": 4,
 "nbformat_minor": 2
}
