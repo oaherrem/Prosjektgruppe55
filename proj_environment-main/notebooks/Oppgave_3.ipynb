{
 "cells": [
  {
   "cell_type": "code",
   "execution_count": 3,
   "metadata": {},
   "outputs": [
    {
     "name": "stdout",
     "output_type": "stream",
     "text": [
      "filene ../data/ENOL_metar_data.json er lest\n",
      "   Airport Date/time Wind/direction Variable wind Cloud 1 Cloud 2 Cloud 3  \\\n",
      "0     ENOL   010020Z        12031KT           NaN     NaN     NaN     NaN   \n",
      "1     ENOL   010050Z        12031KT           NaN     NaN     NaN     NaN   \n",
      "2     ENOL   010120Z        12032KT           NaN     NaN     NaN     NaN   \n",
      "3     ENOL   010150Z     12029G39KT           NaN     NaN     NaN     NaN   \n",
      "4     ENOL   010220Z     12030G44KT           NaN     NaN     NaN     NaN   \n",
      "..     ...       ...            ...           ...     ...     ...     ...   \n",
      "91    ENOL   022150Z     13025G37KT           NaN     NaN     NaN     NaN   \n",
      "92    ENOL   022220Z     13030G41KT           NaN     NaN     NaN     NaN   \n",
      "93    ENOL   022250Z        13031KT           NaN     NaN     NaN     NaN   \n",
      "94    ENOL   022320Z        13022KT           NaN     NaN     NaN     NaN   \n",
      "95    ENOL   022350Z     13026G38KT           NaN     NaN     NaN     NaN   \n",
      "\n",
      "   Cloud 4 Cloud 5 Temp/dewpoint QNH/pressure  \n",
      "0      NaN     NaN       M03/M09       Q1007=  \n",
      "1      NaN     NaN       M03/M09       Q1006=  \n",
      "2      NaN     NaN       M03/M09       Q1006=  \n",
      "3      NaN     NaN       M03/M09       Q1006=  \n",
      "4      NaN     NaN       M03/M10       Q1006=  \n",
      "..     ...     ...           ...          ...  \n",
      "91     NaN     NaN       M07/M15        Q1007  \n",
      "92     NaN     NaN       M07/M15       Q1006=  \n",
      "93     NaN     NaN       M07/M14       Q1006=  \n",
      "94     NaN     NaN       M07/M14       Q1006=  \n",
      "95     NaN     NaN       M07/M14       Q1006=  \n",
      "\n",
      "[96 rows x 11 columns]\n"
     ]
    }
   ],
   "source": [
    "#oppgave 3\n",
    "import sys, os\n",
    "import pandas as pd\n",
    "\n",
    "\n",
    "sys.path.insert(0, '../src/')\n",
    "#henter dataFrame_metar.py fil fra src mappa.\n",
    "import dataFrame_metar as dataframe\n",
    "\n",
    "#variabler \n",
    "column_names = [\"Airport\", \"Date/time\", \"Wind/direction\", \"Variable wind\", \"Cloud 1\", \"Cloud 2\", \"Cloud 3\", \"Cloud 4\", \"Cloud 5\", \"Temp/dewpoint\", \"QNH/pressure\"]\n",
    "file_path = ('../data/ENOL_metar_data.json')\n",
    "\n",
    "df_m = pd.read_json(file_path)\n",
    "\n",
    "if not os.path.exists(file_path):\n",
    "    print(f\"Filen {file_path} finnes ikke\")\n",
    "else:\n",
    "    resultat = dataframe.metar_df(column_names, df_m)\n",
    "    \n",
    "    print(f\"filene {file_path} er lest\")\n",
    "    print(resultat)"
   ]
  },
  {
   "cell_type": "code",
   "execution_count": null,
   "metadata": {},
   "outputs": [],
   "source": []
  }
 ],
 "metadata": {
  "kernelspec": {
   "display_name": "venv",
   "language": "python",
   "name": "python3"
  },
  "language_info": {
   "codemirror_mode": {
    "name": "ipython",
    "version": 3
   },
   "file_extension": ".py",
   "mimetype": "text/x-python",
   "name": "python",
   "nbconvert_exporter": "python",
   "pygments_lexer": "ipython3",
   "version": "3.13.1"
  }
 },
 "nbformat": 4,
 "nbformat_minor": 2
}
