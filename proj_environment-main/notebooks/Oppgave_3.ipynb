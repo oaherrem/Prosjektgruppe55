{
 "cells": [
  {
   "cell_type": "code",
   "execution_count": null,
   "metadata": {},
   "outputs": [],
   "source": [
    "#oppgave 3\n",
    "import sys, os\n",
    "import pandas as pd\n",
    "\n",
    "\n",
    "sys.path.insert(0, '../src/')\n",
    "#henter dataFrame_metar.py fil fra src mappa.\n",
    "import dataFrame_metar as dataframe\n",
    "\n",
    "#variabler \n",
    "column_names = [\"Airport\", \"Date/time\", \"Wind/direction\", \"Variable wind\", \"Cloud 1\", \"Cloud 2\", \"Cloud 3\", \"Cloud 4\", \"Cloud 5\", \"Temp/dewpoint\", \"QNH/pressure\"]\n",
    "file_path = ('../data/metar_ENBO,ENOL_2024-03-01.json')\n",
    "\n",
    "df_m = pd.read_json(file_path)\n",
    "if not os.path.exists(file_path):\n",
    "    print(f\"Filen {file_path} finnes ikke\")\n",
    "else:\n",
    "    resultat = dataframe.metar_df(column_names, df_m)\n",
    "    \n",
    "    print(f\"filene {file_path} er lest\")\n",
    "print(resultat.head(14))"
   ]
  }
 ],
 "metadata": {
  "kernelspec": {
   "display_name": "venv",
   "language": "python",
   "name": "python3"
  },
  "language_info": {
   "codemirror_mode": {
    "name": "ipython",
    "version": 3
   },
   "file_extension": ".py",
   "mimetype": "text/x-python",
   "name": "python",
   "nbconvert_exporter": "python",
   "pygments_lexer": "ipython3",
   "version": "3.13.1"
  }
 },
 "nbformat": 4,
 "nbformat_minor": 2
}
