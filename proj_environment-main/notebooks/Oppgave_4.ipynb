{
 "cells": [
  {
   "cell_type": "code",
   "execution_count": 1,
   "metadata": {},
   "outputs": [
    {
     "name": "stdout",
     "output_type": "stream",
     "text": [
      "filene ../data/ENOL_metar_data.json er lagret i dataframe for ENOL\n",
      "filene ../data/ENBO_metar_data.json er lagret i dataframe for ENBO\n"
     ]
    }
   ],
   "source": [
    "# Kjører funksjonen fra Oppgave_3, slik at vi kan bruke den i denne oppgaven\n",
    "%run ./Oppgave_3.ipynb"
   ]
  },
  {
   "cell_type": "code",
   "execution_count": 2,
   "metadata": {},
   "outputs": [
    {
     "name": "stdout",
     "output_type": "stream",
     "text": [
      "Resultater for Ørland (ENOL):\n",
      "Gjennomsnittlig vindretning: 182.3\n",
      "Gjennomsnittlig vindhastighet: 11.8\n",
      "Median vindretning: 140.0\n",
      "Median vindhastighet: 11.0\n",
      "Standardavvik vindretning: 93.3\n",
      "Standardavvik vindhastighet: 7.1\n"
     ]
    }
   ],
   "source": [
    "# Beregner gjennomsnitt av interessant data for Ørland (ENOL)\n",
    "avg_wind_direction = df_ENOL[\"Wind_direction\"].mean().round(1)\n",
    "avg_wind_speed = df_ENOL[\"Wind_speed\"].mean().round(1)\n",
    "\n",
    "# Beregner median\n",
    "median_wind_direction = df_ENOL[\"Wind_direction\"].median().round(1)\n",
    "median_wind_speed = df_ENOL[\"Wind_speed\"].median().round(1)\n",
    "\n",
    "# Beregner standardavvik\n",
    "std_wind_direction = df_ENOL[\"Wind_direction\"].std().round(1)\n",
    "std_wind_speed = df_ENOL[\"Wind_speed\"].std().round(1)\n",
    "\n",
    "# Skriver ut resultater\n",
    "print(\"Resultater for Ørland (ENOL):\")\n",
    "print(\"Gjennomsnittlig vindretning:\", avg_wind_direction)\n",
    "print(\"Gjennomsnittlig vindhastighet:\", avg_wind_speed)\n",
    "print(\"Median vindretning:\", median_wind_direction)\n",
    "print(\"Median vindhastighet:\", median_wind_speed)\n",
    "print(\"Standardavvik vindretning:\", std_wind_direction)\n",
    "print(\"Standardavvik vindhastighet:\", std_wind_speed)"
   ]
  },
  {
   "cell_type": "code",
   "execution_count": 3,
   "metadata": {},
   "outputs": [
    {
     "name": "stdout",
     "output_type": "stream",
     "text": [
      "Resultater for Bodø (ENBO):\n",
      "Gjennomsnittlig vindretning: 158.2\n",
      "Gjennomsnittlig vindhastighet: 13.6\n",
      "Median vindretning: 110.0\n",
      "Median vindhastighet: 12.0\n",
      "Standardavvik vindretning: 89.6\n",
      "Standardavvik vindhastighet: 7.4\n"
     ]
    }
   ],
   "source": [
    "# Beregner gjennomsnitt av interessant data for Bodø (ENBO)\n",
    "avg_wind_direction = df_ENBO[\"Wind_direction\"].mean().round(1)\n",
    "avg_wind_speed = df_ENBO[\"Wind_speed\"].mean().round(1)\n",
    "\n",
    "# Beregner median\n",
    "median_wind_direction = df_ENBO[\"Wind_direction\"].median().round(1)\n",
    "median_wind_speed = df_ENBO[\"Wind_speed\"].median().round(1)\n",
    "\n",
    "# Beregner standardavvik\n",
    "std_wind_direction = df_ENBO[\"Wind_direction\"].std().round(1)\n",
    "std_wind_speed = df_ENBO[\"Wind_speed\"].std().round(1)\n",
    "\n",
    "# Skriver ut resultater\n",
    "print(\"Resultater for Bodø (ENBO):\")\n",
    "print(\"Gjennomsnittlig vindretning:\", avg_wind_direction)\n",
    "print(\"Gjennomsnittlig vindhastighet:\", avg_wind_speed)\n",
    "print(\"Median vindretning:\", median_wind_direction)\n",
    "print(\"Median vindhastighet:\", median_wind_speed)\n",
    "print(\"Standardavvik vindretning:\", std_wind_direction)\n",
    "print(\"Standardavvik vindhastighet:\", std_wind_speed)"
   ]
  }
 ],
 "metadata": {
  "kernelspec": {
   "display_name": "venv",
   "language": "python",
   "name": "python3"
  },
  "language_info": {
   "codemirror_mode": {
    "name": "ipython",
    "version": 3
   },
   "file_extension": ".py",
   "mimetype": "text/x-python",
   "name": "python",
   "nbconvert_exporter": "python",
   "pygments_lexer": "ipython3",
   "version": "3.13.1"
  }
 },
 "nbformat": 4,
 "nbformat_minor": 2
}
