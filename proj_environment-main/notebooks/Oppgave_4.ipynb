{
 "cells": [
  {
   "cell_type": "code",
   "execution_count": 1,
   "metadata": {},
   "outputs": [
    {
     "data": {
      "text/html": [
       "<div>\n",
       "<style scoped>\n",
       "    .dataframe tbody tr th:only-of-type {\n",
       "        vertical-align: middle;\n",
       "    }\n",
       "\n",
       "    .dataframe tbody tr th {\n",
       "        vertical-align: top;\n",
       "    }\n",
       "\n",
       "    .dataframe thead th {\n",
       "        text-align: right;\n",
       "    }\n",
       "</style>\n",
       "<table border=\"1\" class=\"dataframe\">\n",
       "  <thead>\n",
       "    <tr style=\"text-align: right;\">\n",
       "      <th></th>\n",
       "      <th>Airport</th>\n",
       "      <th>Date/time</th>\n",
       "      <th>Wind_direction</th>\n",
       "      <th>Wind_speed</th>\n",
       "      <th>Gust_speed</th>\n",
       "      <th>QNH</th>\n",
       "    </tr>\n",
       "  </thead>\n",
       "  <tbody>\n",
       "    <tr>\n",
       "      <th>0</th>\n",
       "      <td>ENOL</td>\n",
       "      <td>010020Z</td>\n",
       "      <td>120</td>\n",
       "      <td>31</td>\n",
       "      <td>NaN</td>\n",
       "      <td>1007</td>\n",
       "    </tr>\n",
       "    <tr>\n",
       "      <th>1</th>\n",
       "      <td>ENOL</td>\n",
       "      <td>020020Z</td>\n",
       "      <td>120</td>\n",
       "      <td>28</td>\n",
       "      <td>NaN</td>\n",
       "      <td>1009</td>\n",
       "    </tr>\n",
       "    <tr>\n",
       "      <th>2</th>\n",
       "      <td>ENOL</td>\n",
       "      <td>030020Z</td>\n",
       "      <td>130</td>\n",
       "      <td>31</td>\n",
       "      <td>NaN</td>\n",
       "      <td>1005</td>\n",
       "    </tr>\n",
       "    <tr>\n",
       "      <th>3</th>\n",
       "      <td>ENOL</td>\n",
       "      <td>040020Z</td>\n",
       "      <td>130</td>\n",
       "      <td>31</td>\n",
       "      <td>41.0</td>\n",
       "      <td>1004</td>\n",
       "    </tr>\n",
       "    <tr>\n",
       "      <th>4</th>\n",
       "      <td>ENOL</td>\n",
       "      <td>050020Z</td>\n",
       "      <td>130</td>\n",
       "      <td>22</td>\n",
       "      <td>NaN</td>\n",
       "      <td>1010</td>\n",
       "    </tr>\n",
       "  </tbody>\n",
       "</table>\n",
       "</div>"
      ],
      "text/plain": [
       "  Airport Date/time  Wind_direction  Wind_speed  Gust_speed   QNH\n",
       "0    ENOL   010020Z             120          31         NaN  1007\n",
       "1    ENOL   020020Z             120          28         NaN  1009\n",
       "2    ENOL   030020Z             130          31         NaN  1005\n",
       "3    ENOL   040020Z             130          31        41.0  1004\n",
       "4    ENOL   050020Z             130          22         NaN  1010"
      ]
     },
     "execution_count": 1,
     "metadata": {},
     "output_type": "execute_result"
    }
   ],
   "source": [
    "# Importer data fra csv\n",
    "import pandas as pd \n",
    "file_path_ENOL = '../data/csv/ENOL_metar_data.csv'\n",
    "df_ENOL = pd.read_csv(file_path_ENOL)\n",
    "file_path_ENBO = '../data/csv/ENBO_metar_data.csv'\n",
    "df_ENBO = pd.read_csv(file_path_ENBO)\n",
    "\n",
    "\n",
    "df_ENOL.head(5)"
   ]
  },
  {
   "cell_type": "code",
   "execution_count": 2,
   "metadata": {},
   "outputs": [
    {
     "data": {
      "text/html": [
       "<div>\n",
       "<style scoped>\n",
       "    .dataframe tbody tr th:only-of-type {\n",
       "        vertical-align: middle;\n",
       "    }\n",
       "\n",
       "    .dataframe tbody tr th {\n",
       "        vertical-align: top;\n",
       "    }\n",
       "\n",
       "    .dataframe thead th {\n",
       "        text-align: right;\n",
       "    }\n",
       "</style>\n",
       "<table border=\"1\" class=\"dataframe\">\n",
       "  <thead>\n",
       "    <tr style=\"text-align: right;\">\n",
       "      <th></th>\n",
       "      <th>Airport</th>\n",
       "      <th>Date/time</th>\n",
       "      <th>Wind_direction</th>\n",
       "      <th>Wind_speed</th>\n",
       "      <th>Gust_speed</th>\n",
       "      <th>QNH</th>\n",
       "    </tr>\n",
       "  </thead>\n",
       "  <tbody>\n",
       "    <tr>\n",
       "      <th>0</th>\n",
       "      <td>ENBO</td>\n",
       "      <td>010020Z</td>\n",
       "      <td>100</td>\n",
       "      <td>26</td>\n",
       "      <td>NaN</td>\n",
       "      <td>1019</td>\n",
       "    </tr>\n",
       "    <tr>\n",
       "      <th>1</th>\n",
       "      <td>ENBO</td>\n",
       "      <td>020020Z</td>\n",
       "      <td>90</td>\n",
       "      <td>24</td>\n",
       "      <td>NaN</td>\n",
       "      <td>1017</td>\n",
       "    </tr>\n",
       "    <tr>\n",
       "      <th>2</th>\n",
       "      <td>ENBO</td>\n",
       "      <td>030020Z</td>\n",
       "      <td>90</td>\n",
       "      <td>24</td>\n",
       "      <td>NaN</td>\n",
       "      <td>1013</td>\n",
       "    </tr>\n",
       "    <tr>\n",
       "      <th>3</th>\n",
       "      <td>ENBO</td>\n",
       "      <td>040020Z</td>\n",
       "      <td>100</td>\n",
       "      <td>20</td>\n",
       "      <td>NaN</td>\n",
       "      <td>1009</td>\n",
       "    </tr>\n",
       "    <tr>\n",
       "      <th>4</th>\n",
       "      <td>ENBO</td>\n",
       "      <td>050020Z</td>\n",
       "      <td>90</td>\n",
       "      <td>19</td>\n",
       "      <td>NaN</td>\n",
       "      <td>1006</td>\n",
       "    </tr>\n",
       "  </tbody>\n",
       "</table>\n",
       "</div>"
      ],
      "text/plain": [
       "  Airport Date/time  Wind_direction  Wind_speed  Gust_speed   QNH\n",
       "0    ENBO   010020Z             100          26         NaN  1019\n",
       "1    ENBO   020020Z              90          24         NaN  1017\n",
       "2    ENBO   030020Z              90          24         NaN  1013\n",
       "3    ENBO   040020Z             100          20         NaN  1009\n",
       "4    ENBO   050020Z              90          19         NaN  1006"
      ]
     },
     "execution_count": 2,
     "metadata": {},
     "output_type": "execute_result"
    }
   ],
   "source": [
    "df_ENBO.head(5)"
   ]
  },
  {
   "cell_type": "markdown",
   "metadata": {},
   "source": [
    "Definerer variabelen \"airport\" for å gjøre beregningnen dynamisk. Beregner først for ENOL og deretter ENBO."
   ]
  },
  {
   "cell_type": "code",
   "execution_count": 3,
   "metadata": {},
   "outputs": [
    {
     "name": "stdout",
     "output_type": "stream",
     "text": [
      "Resultater for Ørland (ENOL):\n",
      "Gjennomsnittlig vindretning: 166.7\n",
      "Gjennomsnittlig vindhastighet: 11.3\n",
      "Gjennomsnittlig vindkasthastighet: 41.4\n",
      "Gjennomsnittlig trykk: 1007.9\n",
      "Median vindretning: 130.0\n",
      "Median vindhastighet: 10.0\n",
      "Median vindkasthastighet: 41.0\n",
      "Median trykk: 1009.0\n",
      "Standardavvik vindretning: 84.6\n",
      "Standardavvik vindhastighet: 7.6\n",
      "Standardavvik vindkasthastighet: 8.1\n",
      "Standardavvik trykk: 12.8\n"
     ]
    }
   ],
   "source": [
    "airport = df_ENOL\n",
    "# Beregner gjennomsnitt av interessant data for Ørland (ENOL)\n",
    "avg_wind_direction = airport[\"Wind_direction\"].mean().round(1)\n",
    "avg_wind_speed = airport[\"Wind_speed\"].mean().round(1)\n",
    "avg_gust_speed = airport[\"Gust_speed\"].mean().round(1)\n",
    "avg_QNH = airport[\"QNH\"].mean().round(1)\n",
    "\n",
    "# Beregner median\n",
    "median_wind_direction = airport[\"Wind_direction\"].median().round(1)\n",
    "median_wind_speed = airport[\"Wind_speed\"].median().round(1)\n",
    "median_gust_speed = airport[\"Gust_speed\"].median().round(1)\n",
    "median_QNH = airport[\"QNH\"].median().round(1)\n",
    "\n",
    "# Beregner standardavvik\n",
    "std_wind_direction = airport[\"Wind_direction\"].std().round(1)\n",
    "std_wind_speed = airport[\"Wind_speed\"].std().round(1)\n",
    "std_gust_speed = airport[\"Gust_speed\"].std().round(1)\n",
    "std_QNH = airport[\"QNH\"].std().round(1)\n",
    "\n",
    "# Skriver ut resultater\n",
    "print(\"Resultater for Ørland (ENOL):\")\n",
    "print(\"Gjennomsnittlig vindretning:\", avg_wind_direction)\n",
    "print(\"Gjennomsnittlig vindhastighet:\", avg_wind_speed)\n",
    "print(\"Gjennomsnittlig vindkasthastighet:\", avg_gust_speed)\n",
    "print(\"Gjennomsnittlig trykk:\",avg_QNH)\n",
    "print(\"Median vindretning:\", median_wind_direction)\n",
    "print(\"Median vindhastighet:\", median_wind_speed)\n",
    "print(\"Median vindkasthastighet:\", median_gust_speed)\n",
    "print(\"Median trykk:\", median_QNH)\n",
    "print(\"Standardavvik vindretning:\", std_wind_direction)\n",
    "print(\"Standardavvik vindhastighet:\", std_wind_speed)\n",
    "print(\"Standardavvik vindkasthastighet:\", std_gust_speed)\n",
    "print(\"Standardavvik trykk:\", std_QNH)"
   ]
  },
  {
   "cell_type": "code",
   "execution_count": 4,
   "metadata": {},
   "outputs": [
    {
     "name": "stdout",
     "output_type": "stream",
     "text": [
      "Resultater for Bodø (ENBO):\n",
      "Gjennomsnittlig vindretning: 157.3\n",
      "Gjennomsnittlig vindhastighet: 13.6\n",
      "Gjennomsnittlig vindkasthastighet: 43.1\n",
      "Gjennomsnittlig trykk: 1006.7\n",
      "Median vindretning: 110.0\n",
      "Median vindhastighet: 12.5\n",
      "Median vindkasthastighet: 45.5\n",
      "Median trykk: 1008.0\n",
      "Standardavvik vindretning: 84.9\n",
      "Standardavvik vindhastighet: 7.5\n",
      "Standardavvik vindkasthastighet: 8.4\n",
      "Standardavvik trykk: 12.8\n"
     ]
    }
   ],
   "source": [
    "airport = df_ENBO\n",
    "# Beregner gjennomsnitt av interessant data for Bodø (ENBO)\n",
    "avg_wind_direction = airport[\"Wind_direction\"].mean().round(1)\n",
    "avg_wind_speed = airport[\"Wind_speed\"].mean().round(1)\n",
    "avg_gust_speed = airport[\"Gust_speed\"].mean().round(1)\n",
    "avg_QNH = airport[\"QNH\"].mean().round(1)\n",
    "\n",
    "# Beregner median\n",
    "median_wind_direction = airport[\"Wind_direction\"].median().round(1)\n",
    "median_wind_speed = airport[\"Wind_speed\"].median().round(1)\n",
    "median_gust_speed = airport[\"Gust_speed\"].median().round(1)\n",
    "median_QNH = airport[\"QNH\"].median().round(1)\n",
    "\n",
    "# Beregner standardavvik\n",
    "std_wind_direction = airport[\"Wind_direction\"].std().round(1)\n",
    "std_wind_speed = airport[\"Wind_speed\"].std().round(1)\n",
    "std_gust_speed = airport[\"Gust_speed\"].std().round(1)\n",
    "std_QNH = airport[\"QNH\"].std().round(1)\n",
    "avg_wind_direction = airport[\"Wind_direction\"].mean().round(1)\n",
    "avg_wind_speed = airport[\"Wind_speed\"].mean().round(1)\n",
    "avg_gust_speed = airport[\"Gust_speed\"].mean().round(1)\n",
    "\n",
    "# Beregner median\n",
    "median_wind_direction = airport[\"Wind_direction\"].median().round(1)\n",
    "median_wind_speed = airport[\"Wind_speed\"].median().round(1)\n",
    "median_gust_speed = airport[\"Gust_speed\"].median().round(1)\n",
    "\n",
    "# Beregner standardavvik\n",
    "std_wind_direction = airport[\"Wind_direction\"].std().round(1)\n",
    "std_wind_speed = airport[\"Wind_speed\"].std().round(1)\n",
    "std_gust_speed = airport[\"Gust_speed\"].std().round(1)\n",
    "\n",
    "# Skriver ut resultater\n",
    "print(\"Resultater for Bodø (ENBO):\")\n",
    "print(\"Gjennomsnittlig vindretning:\", avg_wind_direction)\n",
    "print(\"Gjennomsnittlig vindhastighet:\", avg_wind_speed)\n",
    "print(\"Gjennomsnittlig vindkasthastighet:\", avg_gust_speed)\n",
    "print(\"Gjennomsnittlig trykk:\",avg_QNH)\n",
    "print(\"Median vindretning:\", median_wind_direction)\n",
    "print(\"Median vindhastighet:\", median_wind_speed)\n",
    "print(\"Median vindkasthastighet:\", median_gust_speed)\n",
    "print(\"Median trykk:\", median_QNH)\n",
    "print(\"Standardavvik vindretning:\", std_wind_direction)\n",
    "print(\"Standardavvik vindhastighet:\", std_wind_speed)\n",
    "print(\"Standardavvik vindkasthastighet:\", std_gust_speed)\n",
    "print(\"Standardavvik trykk:\", std_QNH)"
   ]
  },
  {
   "cell_type": "code",
   "execution_count": 5,
   "metadata": {},
   "outputs": [
    {
     "name": "stdout",
     "output_type": "stream",
     "text": [
      "Maksimal vindhastighet: 48\n",
      "Maksimal styrke på vindkast: 66.0\n",
      "Maksimal vindhastighet: 40\n",
      "Maksimal styrke på vindkast: 66.0\n"
     ]
    }
   ],
   "source": [
    "max_wind_speed_enol = df_ENOL[\"Wind_speed\"].max()\n",
    "max_wind_speed_enbo = df_ENBO[\"Wind_speed\"].max()\n",
    "max_gust_speed_enol = df_ENOL[\"Gust_speed\"].max()\n",
    "max_gust_speed_enbo = df_ENOL[\"Gust_speed\"].max()\n",
    "\n",
    "print(\"Maksimal vindhastighet:\", max_wind_speed_enol)\n",
    "print(\"Maksimal styrke på vindkast:\", max_gust_speed_enol)\n",
    "print(\"Maksimal vindhastighet:\", max_wind_speed_enbo)\n",
    "print(\"Maksimal styrke på vindkast:\", max_gust_speed_enbo)"
   ]
  },
  {
   "cell_type": "code",
   "execution_count": 6,
   "metadata": {},
   "outputs": [
    {
     "name": "stdout",
     "output_type": "stream",
     "text": [
      "Hvor ofte vindhastigheten er over 30 knop på Ørland: 14\n",
      "Hvor ofte vindhastigheten er over 30 knop i Bodø: 13\n"
     ]
    }
   ],
   "source": [
    "count_wind_speed_over_45_enol = (df_ENOL[\"Wind_speed\"] >= 30).sum()\n",
    "count_wind_speed_over_45_enbo = (df_ENBO[\"Wind_speed\"] >= 30).sum()\n",
    "\n",
    "print(\"Hvor ofte vindhastigheten er over 30 knop på Ørland:\", count_wind_speed_over_45_enol)\n",
    "print(\"Hvor ofte vindhastigheten er over 30 knop i Bodø:\", count_wind_speed_over_45_enbo)"
   ]
  },
  {
   "cell_type": "code",
   "execution_count": 7,
   "metadata": {},
   "outputs": [
    {
     "name": "stdout",
     "output_type": "stream",
     "text": [
      "Bruker faste verdier i dataframen for å regne ut hvor mange tilfeller winden overstiger 35 knop, fra en spesifikk retning.\n",
      "Antall NOFLY tilfeller pga cross wind i løpet av et år: 2\n"
     ]
    },
    {
     "data": {
      "text/html": [
       "<div>\n",
       "<style scoped>\n",
       "    .dataframe tbody tr th:only-of-type {\n",
       "        vertical-align: middle;\n",
       "    }\n",
       "\n",
       "    .dataframe tbody tr th {\n",
       "        vertical-align: top;\n",
       "    }\n",
       "\n",
       "    .dataframe thead th {\n",
       "        text-align: right;\n",
       "    }\n",
       "</style>\n",
       "<table border=\"1\" class=\"dataframe\">\n",
       "  <thead>\n",
       "    <tr style=\"text-align: right;\">\n",
       "      <th></th>\n",
       "      <th>Airport</th>\n",
       "      <th>Date/time</th>\n",
       "      <th>Wind_direction</th>\n",
       "      <th>Wind_speed</th>\n",
       "      <th>Gust_speed</th>\n",
       "      <th>QNH</th>\n",
       "    </tr>\n",
       "  </thead>\n",
       "  <tbody>\n",
       "    <tr>\n",
       "      <th>31</th>\n",
       "      <td>ENOL</td>\n",
       "      <td>010020Z</td>\n",
       "      <td>230</td>\n",
       "      <td>48</td>\n",
       "      <td>66.0</td>\n",
       "      <td>974</td>\n",
       "    </tr>\n",
       "    <tr>\n",
       "      <th>54</th>\n",
       "      <td>ENOL</td>\n",
       "      <td>240020Z</td>\n",
       "      <td>230</td>\n",
       "      <td>35</td>\n",
       "      <td>46.0</td>\n",
       "      <td>977</td>\n",
       "    </tr>\n",
       "  </tbody>\n",
       "</table>\n",
       "</div>"
      ],
      "text/plain": [
       "   Airport Date/time  Wind_direction  Wind_speed  Gust_speed  QNH\n",
       "31    ENOL   010020Z             230          48        66.0  974\n",
       "54    ENOL   240020Z             230          35        46.0  977"
      ]
     },
     "execution_count": 7,
     "metadata": {},
     "output_type": "execute_result"
    }
   ],
   "source": [
    "wind_threshold = 35\n",
    "airport = df_ENOL\n",
    "runway = 330\n",
    "\n",
    "\n",
    "\n",
    "print(\"Bruker faste verdier i dataframen for å regne ut hvor mange tilfeller winden overstiger 35 knop, \"\n",
    "\"fra en spesifikk retning.\")\n",
    "lower_limit_1 = 195\n",
    "upper_limit_1 = 285\n",
    "lower_limit_2 = 15\n",
    "upper_limit_2 = 105\n",
    "\n",
    "\n",
    "incident_1 = airport[\"Wind_direction\"].between(lower_limit_1,  upper_limit_1) & (airport[\"Wind_speed\"] >= wind_threshold)\n",
    "incident_2 = airport[\"Wind_direction\"].between(lower_limit_2, upper_limit_2) & (airport[\"Wind_speed\"] >= wind_threshold)\n",
    "\n",
    "crosswind = incident_1 + incident_2\n",
    "\n",
    "df_crosswind = airport[crosswind]\n",
    "\n",
    "print(\"Antall NOFLY tilfeller pga cross wind i løpet av et år:\", df_crosswind.shape[0])\n",
    "df_crosswind\n"
   ]
  },
  {
   "cell_type": "markdown",
   "metadata": {},
   "source": [
    "*Jobber med å finne en måte gjøre testen over til en dynamisk funksjon, slik at kun tar inn en runway verdi, og deretter regner den ut begrensinger i forbindelse med cross wind. "
   ]
  },
  {
   "cell_type": "code",
   "execution_count": 8,
   "metadata": {},
   "outputs": [],
   "source": [
    "import pandas as pd \n",
    "file_path_ENOL = '../data/json/ENOL_metar_data.json'\n",
    "df_ENOL = pd.read_json(file_path_ENOL)"
   ]
  },
  {
   "cell_type": "code",
   "execution_count": 9,
   "metadata": {},
   "outputs": [
    {
     "name": "stdout",
     "output_type": "stream",
     "text": [
      "False\n"
     ]
    }
   ],
   "source": [
    "#wind_threshold = 35\n",
    "#airport = df_ENOL\n",
    "#runway = 330\n",
    "grader_45 = 45\n",
    "\n",
    "wind_direction = [220,180,60,35]\n",
    "wind_speed = [38,35,37,36]\n",
    "# Cross wind component ENOL ** Se på metoder for å beregne crosswind component automatisk\n",
    "\n",
    "def is_crosswind(runway_angle, wind_direction,wind_speed):\n",
    "    wind_threshold = 35\n",
    "    if wind_speed <= wind_threshold:\n",
    "        return False    \n",
    "    x = runway_angle\n",
    "    x_ = (x+180) % 360\n",
    "\n",
    "    if (x >=45 and x <=135) or (x_ >=45 and x_ <=135) :\n",
    "        return abs(x-wind_direction) >= 45 and abs(x_-wind_direction) >= 45\n",
    "    else:\n",
    "        x_ok = min([x, x_], key= lambda x: abs(x-180))\n",
    "        x_prob = max([x, x_], key= lambda x: abs(x-180))\n",
    "\n",
    "        if x_prob > 180:\n",
    "            return (x_prob-wind_direction > 45 or (wind_direction + 360) - x_prob > 45) and abs(x_ok-wind_direction)> 45\n",
    "        else:\n",
    "            return (x_prob - wind_direction > 45 or (x_prob+360)- wind_direction > 45) and abs (x_ok-wind_direction) > 45\n",
    "\n",
    "print(is_crosswind(30,350,36))\n"
   ]
  },
  {
   "cell_type": "code",
   "execution_count": 13,
   "metadata": {},
   "outputs": [
    {
     "name": "stdout",
     "output_type": "stream",
     "text": [
      "<class 'pandas.core.frame.DataFrame'>\n"
     ]
    },
    {
     "ename": "KeyError",
     "evalue": "'Wind_direction'",
     "output_type": "error",
     "traceback": [
      "\u001b[1;31m---------------------------------------------------------------------------\u001b[0m",
      "\u001b[1;31mKeyError\u001b[0m                                  Traceback (most recent call last)",
      "File \u001b[1;32mc:\\Users\\hanna\\OneDrive\\Desktop\\Python\\TDT4114\\Prosjektgruppe55\\venv\\Lib\\site-packages\\pandas\\core\\indexes\\base.py:3805\u001b[0m, in \u001b[0;36mIndex.get_loc\u001b[1;34m(self, key)\u001b[0m\n\u001b[0;32m   3804\u001b[0m \u001b[38;5;28;01mtry\u001b[39;00m:\n\u001b[1;32m-> 3805\u001b[0m     \u001b[38;5;28;01mreturn\u001b[39;00m \u001b[38;5;28;43mself\u001b[39;49m\u001b[38;5;241;43m.\u001b[39;49m\u001b[43m_engine\u001b[49m\u001b[38;5;241;43m.\u001b[39;49m\u001b[43mget_loc\u001b[49m\u001b[43m(\u001b[49m\u001b[43mcasted_key\u001b[49m\u001b[43m)\u001b[49m\n\u001b[0;32m   3806\u001b[0m \u001b[38;5;28;01mexcept\u001b[39;00m \u001b[38;5;167;01mKeyError\u001b[39;00m \u001b[38;5;28;01mas\u001b[39;00m err:\n",
      "File \u001b[1;32mindex.pyx:167\u001b[0m, in \u001b[0;36mpandas._libs.index.IndexEngine.get_loc\u001b[1;34m()\u001b[0m\n",
      "File \u001b[1;32mindex.pyx:196\u001b[0m, in \u001b[0;36mpandas._libs.index.IndexEngine.get_loc\u001b[1;34m()\u001b[0m\n",
      "File \u001b[1;32mpandas\\\\_libs\\\\hashtable_class_helper.pxi:7081\u001b[0m, in \u001b[0;36mpandas._libs.hashtable.PyObjectHashTable.get_item\u001b[1;34m()\u001b[0m\n",
      "File \u001b[1;32mpandas\\\\_libs\\\\hashtable_class_helper.pxi:7089\u001b[0m, in \u001b[0;36mpandas._libs.hashtable.PyObjectHashTable.get_item\u001b[1;34m()\u001b[0m\n",
      "\u001b[1;31mKeyError\u001b[0m: 'Wind_direction'",
      "\nThe above exception was the direct cause of the following exception:\n",
      "\u001b[1;31mKeyError\u001b[0m                                  Traceback (most recent call last)",
      "Cell \u001b[1;32mIn[13], line 7\u001b[0m\n\u001b[0;32m      5\u001b[0m count \u001b[38;5;241m=\u001b[39m \u001b[38;5;241m0\u001b[39m\n\u001b[0;32m      6\u001b[0m \u001b[38;5;28;01mfor\u001b[39;00m _, datapoint \u001b[38;5;129;01min\u001b[39;00m wind_data\u001b[38;5;241m.\u001b[39miterrows():\n\u001b[1;32m----> 7\u001b[0m     is_crosswind(runway, \u001b[43mdatapoint\u001b[49m\u001b[43m[\u001b[49m\u001b[38;5;124;43m\"\u001b[39;49m\u001b[38;5;124;43mWind_direction\u001b[39;49m\u001b[38;5;124;43m\"\u001b[39;49m\u001b[43m]\u001b[49m, datapoint[\u001b[38;5;124m\"\u001b[39m\u001b[38;5;124mWind_speed\u001b[39m\u001b[38;5;124m\"\u001b[39m])\n\u001b[0;32m      8\u001b[0m     count \u001b[38;5;241m+\u001b[39m\u001b[38;5;241m=\u001b[39m \u001b[38;5;241m1\u001b[39m\n\u001b[0;32m      9\u001b[0m \u001b[38;5;28mprint\u001b[39m(count)\n",
      "File \u001b[1;32mc:\\Users\\hanna\\OneDrive\\Desktop\\Python\\TDT4114\\Prosjektgruppe55\\venv\\Lib\\site-packages\\pandas\\core\\series.py:1121\u001b[0m, in \u001b[0;36mSeries.__getitem__\u001b[1;34m(self, key)\u001b[0m\n\u001b[0;32m   1118\u001b[0m     \u001b[38;5;28;01mreturn\u001b[39;00m \u001b[38;5;28mself\u001b[39m\u001b[38;5;241m.\u001b[39m_values[key]\n\u001b[0;32m   1120\u001b[0m \u001b[38;5;28;01melif\u001b[39;00m key_is_scalar:\n\u001b[1;32m-> 1121\u001b[0m     \u001b[38;5;28;01mreturn\u001b[39;00m \u001b[38;5;28;43mself\u001b[39;49m\u001b[38;5;241;43m.\u001b[39;49m\u001b[43m_get_value\u001b[49m\u001b[43m(\u001b[49m\u001b[43mkey\u001b[49m\u001b[43m)\u001b[49m\n\u001b[0;32m   1123\u001b[0m \u001b[38;5;66;03m# Convert generator to list before going through hashable part\u001b[39;00m\n\u001b[0;32m   1124\u001b[0m \u001b[38;5;66;03m# (We will iterate through the generator there to check for slices)\u001b[39;00m\n\u001b[0;32m   1125\u001b[0m \u001b[38;5;28;01mif\u001b[39;00m is_iterator(key):\n",
      "File \u001b[1;32mc:\\Users\\hanna\\OneDrive\\Desktop\\Python\\TDT4114\\Prosjektgruppe55\\venv\\Lib\\site-packages\\pandas\\core\\series.py:1237\u001b[0m, in \u001b[0;36mSeries._get_value\u001b[1;34m(self, label, takeable)\u001b[0m\n\u001b[0;32m   1234\u001b[0m     \u001b[38;5;28;01mreturn\u001b[39;00m \u001b[38;5;28mself\u001b[39m\u001b[38;5;241m.\u001b[39m_values[label]\n\u001b[0;32m   1236\u001b[0m \u001b[38;5;66;03m# Similar to Index.get_value, but we do not fall back to positional\u001b[39;00m\n\u001b[1;32m-> 1237\u001b[0m loc \u001b[38;5;241m=\u001b[39m \u001b[38;5;28;43mself\u001b[39;49m\u001b[38;5;241;43m.\u001b[39;49m\u001b[43mindex\u001b[49m\u001b[38;5;241;43m.\u001b[39;49m\u001b[43mget_loc\u001b[49m\u001b[43m(\u001b[49m\u001b[43mlabel\u001b[49m\u001b[43m)\u001b[49m\n\u001b[0;32m   1239\u001b[0m \u001b[38;5;28;01mif\u001b[39;00m is_integer(loc):\n\u001b[0;32m   1240\u001b[0m     \u001b[38;5;28;01mreturn\u001b[39;00m \u001b[38;5;28mself\u001b[39m\u001b[38;5;241m.\u001b[39m_values[loc]\n",
      "File \u001b[1;32mc:\\Users\\hanna\\OneDrive\\Desktop\\Python\\TDT4114\\Prosjektgruppe55\\venv\\Lib\\site-packages\\pandas\\core\\indexes\\base.py:3812\u001b[0m, in \u001b[0;36mIndex.get_loc\u001b[1;34m(self, key)\u001b[0m\n\u001b[0;32m   3807\u001b[0m     \u001b[38;5;28;01mif\u001b[39;00m \u001b[38;5;28misinstance\u001b[39m(casted_key, \u001b[38;5;28mslice\u001b[39m) \u001b[38;5;129;01mor\u001b[39;00m (\n\u001b[0;32m   3808\u001b[0m         \u001b[38;5;28misinstance\u001b[39m(casted_key, abc\u001b[38;5;241m.\u001b[39mIterable)\n\u001b[0;32m   3809\u001b[0m         \u001b[38;5;129;01mand\u001b[39;00m \u001b[38;5;28many\u001b[39m(\u001b[38;5;28misinstance\u001b[39m(x, \u001b[38;5;28mslice\u001b[39m) \u001b[38;5;28;01mfor\u001b[39;00m x \u001b[38;5;129;01min\u001b[39;00m casted_key)\n\u001b[0;32m   3810\u001b[0m     ):\n\u001b[0;32m   3811\u001b[0m         \u001b[38;5;28;01mraise\u001b[39;00m InvalidIndexError(key)\n\u001b[1;32m-> 3812\u001b[0m     \u001b[38;5;28;01mraise\u001b[39;00m \u001b[38;5;167;01mKeyError\u001b[39;00m(key) \u001b[38;5;28;01mfrom\u001b[39;00m\u001b[38;5;250m \u001b[39m\u001b[38;5;21;01merr\u001b[39;00m\n\u001b[0;32m   3813\u001b[0m \u001b[38;5;28;01mexcept\u001b[39;00m \u001b[38;5;167;01mTypeError\u001b[39;00m:\n\u001b[0;32m   3814\u001b[0m     \u001b[38;5;66;03m# If we have a listlike key, _check_indexing_error will raise\u001b[39;00m\n\u001b[0;32m   3815\u001b[0m     \u001b[38;5;66;03m#  InvalidIndexError. Otherwise we fall through and re-raise\u001b[39;00m\n\u001b[0;32m   3816\u001b[0m     \u001b[38;5;66;03m#  the TypeError.\u001b[39;00m\n\u001b[0;32m   3817\u001b[0m     \u001b[38;5;28mself\u001b[39m\u001b[38;5;241m.\u001b[39m_check_indexing_error(key)\n",
      "\u001b[1;31mKeyError\u001b[0m: 'Wind_direction'"
     ]
    }
   ],
   "source": [
    "runway = 330\n",
    "wind_data = df_ENOL\n",
    "\n",
    "print(type(wind_data))\n",
    "count = 0\n",
    "for _, datapoint in wind_data.iterrows():\n",
    "    is_crosswind(runway, datapoint[\"Wind_direction\"], datapoint[\"Wind_speed\"])\n",
    "    count += 1\n",
    "print(count)\n",
    "\n",
    "\n",
    "\n"
   ]
  }
 ],
 "metadata": {
  "kernelspec": {
   "display_name": "venv",
   "language": "python",
   "name": "python3"
  },
  "language_info": {
   "codemirror_mode": {
    "name": "ipython",
    "version": 3
   },
   "file_extension": ".py",
   "mimetype": "text/x-python",
   "name": "python",
   "nbconvert_exporter": "python",
   "pygments_lexer": "ipython3",
   "version": "3.13.1"
  }
 },
 "nbformat": 4,
 "nbformat_minor": 2
}
