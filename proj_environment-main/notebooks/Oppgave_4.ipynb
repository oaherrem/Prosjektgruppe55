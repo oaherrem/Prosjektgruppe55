{
 "cells": [
  {
   "cell_type": "code",
   "execution_count": 2,
   "metadata": {},
   "outputs": [
    {
     "name": "stdout",
     "output_type": "stream",
     "text": [
      "filene ../data/ENOL_metar_data.json er lagret i dataframe for ENOL\n",
      "filene ../data/ENBO_metar_data.json er lagret i dataframe for ENBO\n"
     ]
    }
   ],
   "source": [
    "# Kjører funksjonen fra Oppgave_3, slik at vi kan bruke den i denne oppgaven\n",
    "%run ./Oppgave_3_del_2.ipynb"
   ]
  },
  {
   "cell_type": "code",
   "execution_count": 4,
   "metadata": {},
   "outputs": [
    {
     "name": "stdout",
     "output_type": "stream",
     "text": [
      "Resultater for Ørland (ENOL):\n",
      "Gjennomsnittlig vindretning: 182.3\n",
      "Gjennomsnittlig vindhastighet: 11.8\n",
      "Median vindretning: 140.0\n",
      "Median vindhastighet: 11.0\n",
      "Standardavvik vindretning: 93.3\n",
      "Standardavvik vindhastighet: 7.1\n"
     ]
    }
   ],
   "source": [
    "# Beregner gjennomsnitt av interessant data for Ørland (ENOL)\n",
    "avg_wind_direction = df_ENOL[\"Wind_direction\"].mean().round(1)\n",
    "avg_wind_speed = df_ENOL[\"Wind_speed\"].mean().round(1)\n",
    "\n",
    "# Beregner median\n",
    "median_wind_direction = df_ENOL[\"Wind_direction\"].median().round(1)\n",
    "median_wind_speed = df_ENOL[\"Wind_speed\"].median().round(1)\n",
    "\n",
    "# Beregner standardavvik\n",
    "std_wind_direction = df_ENOL[\"Wind_direction\"].std().round(1)\n",
    "std_wind_speed = df_ENOL[\"Wind_speed\"].std().round(1)\n",
    "\n",
    "# Skriver ut resultater\n",
    "print(\"Resultater for Ørland (ENOL):\")\n",
    "print(\"Gjennomsnittlig vindretning:\", avg_wind_direction)\n",
    "print(\"Gjennomsnittlig vindhastighet:\", avg_wind_speed)\n",
    "print(\"Median vindretning:\", median_wind_direction)\n",
    "print(\"Median vindhastighet:\", median_wind_speed)\n",
    "print(\"Standardavvik vindretning:\", std_wind_direction)\n",
    "print(\"Standardavvik vindhastighet:\", std_wind_speed)"
   ]
  },
  {
   "cell_type": "code",
   "execution_count": 3,
   "metadata": {},
   "outputs": [
    {
     "name": "stdout",
     "output_type": "stream",
     "text": [
      "Resultater for Bodø (ENBO):\n",
      "Gjennomsnittlig vindretning: 158.2\n",
      "Gjennomsnittlig vindhastighet: 13.6\n",
      "Median vindretning: 110.0\n",
      "Median vindhastighet: 12.0\n",
      "Standardavvik vindretning: 89.6\n",
      "Standardavvik vindhastighet: 7.4\n"
     ]
    }
   ],
   "source": [
    "# Beregner gjennomsnitt av interessant data for Bodø (ENBO)\n",
    "avg_wind_direction = df_ENBO[\"Wind_direction\"].mean().round(1)\n",
    "avg_wind_speed = df_ENBO[\"Wind_speed\"].mean().round(1)\n",
    "\n",
    "# Beregner median\n",
    "median_wind_direction = df_ENBO[\"Wind_direction\"].median().round(1)\n",
    "median_wind_speed = df_ENBO[\"Wind_speed\"].median().round(1)\n",
    "\n",
    "# Beregner standardavvik\n",
    "std_wind_direction = df_ENBO[\"Wind_direction\"].std().round(1)\n",
    "std_wind_speed = df_ENBO[\"Wind_speed\"].std().round(1)\n",
    "\n",
    "# Skriver ut resultater\n",
    "print(\"Resultater for Bodø (ENBO):\")\n",
    "print(\"Gjennomsnittlig vindretning:\", avg_wind_direction)\n",
    "print(\"Gjennomsnittlig vindhastighet:\", avg_wind_speed)\n",
    "print(\"Median vindretning:\", median_wind_direction)\n",
    "print(\"Median vindhastighet:\", median_wind_speed)\n",
    "print(\"Standardavvik vindretning:\", std_wind_direction)\n",
    "print(\"Standardavvik vindhastighet:\", std_wind_speed)"
   ]
  },
  {
   "cell_type": "code",
   "execution_count": 8,
   "metadata": {},
   "outputs": [
    {
     "name": "stdout",
     "output_type": "stream",
     "text": [
      "Maksimal vindretning: 54\n",
      "Maksimal vindhastighet: 62\n"
     ]
    }
   ],
   "source": [
    "max_wind_speed_enol = df_ENOL[\"Wind_speed\"].max()\n",
    "max_wind_speed_enbo = df_ENBO[\"Wind_speed\"].max()\n",
    "\n",
    "print(\"Maksimal vindretning:\", max_wind_speed_enol)\n",
    "print(\"Maksimal vindhastighet:\", max_wind_speed_enbo)"
   ]
  },
  {
   "cell_type": "code",
   "execution_count": 20,
   "metadata": {},
   "outputs": [
    {
     "name": "stdout",
     "output_type": "stream",
     "text": [
      "Hvor ofte vindhastigheten er over 30 knop på Ørland: 470\n",
      "Hvor ofte vindhastigheten er over 30 knop i Bodø: 599\n"
     ]
    }
   ],
   "source": [
    "count_wind_speed_over_45_enol = (df_ENOL[\"Wind_speed\"] >= 30).sum()\n",
    "count_wind_speed_over_45_enbo = (df_ENBO[\"Wind_speed\"] >= 30).sum()\n",
    "\n",
    "print(\"Hvor ofte vindhastigheten er over 30 knop på Ørland:\", count_wind_speed_over_45_enol)\n",
    "print(\"Hvor ofte vindhastigheten er over 30 knop i Bodø:\", count_wind_speed_over_45_enbo)"
   ]
  },
  {
   "cell_type": "code",
   "execution_count": 65,
   "metadata": {},
   "outputs": [
    {
     "name": "stdout",
     "output_type": "stream",
     "text": [
      "Antall NOFLY tilfeller i løpet av et år: 84\n"
     ]
    },
    {
     "data": {
      "text/html": [
       "<div>\n",
       "<style scoped>\n",
       "    .dataframe tbody tr th:only-of-type {\n",
       "        vertical-align: middle;\n",
       "    }\n",
       "\n",
       "    .dataframe tbody tr th {\n",
       "        vertical-align: top;\n",
       "    }\n",
       "\n",
       "    .dataframe thead th {\n",
       "        text-align: right;\n",
       "    }\n",
       "</style>\n",
       "<table border=\"1\" class=\"dataframe\">\n",
       "  <thead>\n",
       "    <tr style=\"text-align: right;\">\n",
       "      <th></th>\n",
       "      <th>Airport</th>\n",
       "      <th>Date/time</th>\n",
       "      <th>Wind_direction</th>\n",
       "      <th>Wind_speed</th>\n",
       "    </tr>\n",
       "  </thead>\n",
       "  <tbody>\n",
       "    <tr>\n",
       "      <th>1293</th>\n",
       "      <td>ENOL</td>\n",
       "      <td>271350Z</td>\n",
       "      <td>230</td>\n",
       "      <td>41</td>\n",
       "    </tr>\n",
       "    <tr>\n",
       "      <th>1495</th>\n",
       "      <td>ENOL</td>\n",
       "      <td>311820Z</td>\n",
       "      <td>250</td>\n",
       "      <td>37</td>\n",
       "    </tr>\n",
       "    <tr>\n",
       "      <th>1499</th>\n",
       "      <td>ENOL</td>\n",
       "      <td>312020Z</td>\n",
       "      <td>220</td>\n",
       "      <td>43</td>\n",
       "    </tr>\n",
       "    <tr>\n",
       "      <th>1500</th>\n",
       "      <td>ENOL</td>\n",
       "      <td>312050Z</td>\n",
       "      <td>220</td>\n",
       "      <td>46</td>\n",
       "    </tr>\n",
       "    <tr>\n",
       "      <th>1501</th>\n",
       "      <td>ENOL</td>\n",
       "      <td>312120Z</td>\n",
       "      <td>220</td>\n",
       "      <td>40</td>\n",
       "    </tr>\n",
       "    <tr>\n",
       "      <th>...</th>\n",
       "      <td>...</td>\n",
       "      <td>...</td>\n",
       "      <td>...</td>\n",
       "      <td>...</td>\n",
       "    </tr>\n",
       "    <tr>\n",
       "      <th>16973</th>\n",
       "      <td>ENOL</td>\n",
       "      <td>161950Z</td>\n",
       "      <td>270</td>\n",
       "      <td>37</td>\n",
       "    </tr>\n",
       "    <tr>\n",
       "      <th>16974</th>\n",
       "      <td>ENOL</td>\n",
       "      <td>162020Z</td>\n",
       "      <td>270</td>\n",
       "      <td>36</td>\n",
       "    </tr>\n",
       "    <tr>\n",
       "      <th>16977</th>\n",
       "      <td>ENOL</td>\n",
       "      <td>162150Z</td>\n",
       "      <td>270</td>\n",
       "      <td>35</td>\n",
       "    </tr>\n",
       "    <tr>\n",
       "      <th>17598</th>\n",
       "      <td>ENOL</td>\n",
       "      <td>291750Z</td>\n",
       "      <td>260</td>\n",
       "      <td>35</td>\n",
       "    </tr>\n",
       "    <tr>\n",
       "      <th>17600</th>\n",
       "      <td>ENOL</td>\n",
       "      <td>291850Z</td>\n",
       "      <td>250</td>\n",
       "      <td>36</td>\n",
       "    </tr>\n",
       "  </tbody>\n",
       "</table>\n",
       "<p>84 rows × 4 columns</p>\n",
       "</div>"
      ],
      "text/plain": [
       "      Airport Date/time Wind_direction Wind_speed\n",
       "1293     ENOL   271350Z            230         41\n",
       "1495     ENOL   311820Z            250         37\n",
       "1499     ENOL   312020Z            220         43\n",
       "1500     ENOL   312050Z            220         46\n",
       "1501     ENOL   312120Z            220         40\n",
       "...       ...       ...            ...        ...\n",
       "16973    ENOL   161950Z            270         37\n",
       "16974    ENOL   162020Z            270         36\n",
       "16977    ENOL   162150Z            270         35\n",
       "17598    ENOL   291750Z            260         35\n",
       "17600    ENOL   291850Z            250         36\n",
       "\n",
       "[84 rows x 4 columns]"
      ]
     },
     "execution_count": 65,
     "metadata": {},
     "output_type": "execute_result"
    }
   ],
   "source": [
    "threshold = 35\n",
    "\n",
    "# Cross wind component ENOL ** Se på metoder for å beregne crosswind component automatisk\n",
    "lower_limit_1 = 195\n",
    "upper_limit_1 = 285\n",
    "lower_limit_2 = 15\n",
    "upper_limit_2 = 105\n",
    "\n",
    "airport = df_ENOL\n",
    "\n",
    "outliers_1 = airport[\"Wind_direction\"].between(lower_limit_1,  upper_limit_1) & (airport[\"Wind_speed\"] >= threshold)\n",
    "outliers_2 = airport[\"Wind_direction\"].between(lower_limit_2, upper_limit_2) & (airport[\"Wind_speed\"] >= threshold)\n",
    "\n",
    "outliers = outliers_1 + outliers_2\n",
    "\n",
    "df_outliers = airport[outliers]\n",
    "\n",
    "print(\"Antall NOFLY tilfeller i løpet av et år:\", df_outliers.shape[0])\n",
    "df_outliers\n"
   ]
  }
 ],
 "metadata": {
  "kernelspec": {
   "display_name": "venv",
   "language": "python",
   "name": "python3"
  },
  "language_info": {
   "codemirror_mode": {
    "name": "ipython",
    "version": 3
   },
   "file_extension": ".py",
   "mimetype": "text/x-python",
   "name": "python",
   "nbconvert_exporter": "python",
   "pygments_lexer": "ipython3",
   "version": "3.13.1"
  }
 },
 "nbformat": 4,
 "nbformat_minor": 2
}
